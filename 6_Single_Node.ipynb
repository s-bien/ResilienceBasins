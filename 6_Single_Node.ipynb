{
 "cells": [
  {
   "cell_type": "markdown",
   "id": "d721e837-38bd-42e7-8ad3-b23303d27caf",
   "metadata": {},
   "source": [
    "# Single Node\n",
    "\n",
    "This code produces all the computations and plots for the first, easy-to-follow application example: The single-node dynamical system.\n",
    "\n",
    "It is in notebook form to make it more readable."
   ]
  },
  {
   "cell_type": "markdown",
   "id": "f7b81f0e-7e91-4587-a632-7080432484ee",
   "metadata": {},
   "source": [
    "## Packages"
   ]
  },
  {
   "cell_type": "code",
   "execution_count": 1,
   "id": "3ddda6c3-09e1-4df6-a9d0-5cdbcaf8cb57",
   "metadata": {
    "execution": {
     "iopub.execute_input": "2023-04-12T08:24:33.064182Z",
     "iopub.status.busy": "2023-04-12T08:24:33.064182Z",
     "iopub.status.idle": "2023-04-12T08:24:34.135565Z",
     "shell.execute_reply": "2023-04-12T08:24:34.135565Z",
     "shell.execute_reply.started": "2023-04-12T08:24:33.064182Z"
    },
    "tags": []
   },
   "outputs": [],
   "source": [
    "import numpy as np\n",
    "from scipy.integrate import solve_ivp\n",
    "import matplotlib.pyplot as plt\n",
    "import math"
   ]
  },
  {
   "cell_type": "code",
   "execution_count": null,
   "id": "46a7ebfd-6910-488d-9a11-0c2e66be8755",
   "metadata": {
    "execution": {
     "iopub.execute_input": "2023-04-12T14:46:53.101414Z",
     "iopub.status.busy": "2023-04-12T14:46:53.098421Z",
     "iopub.status.idle": "2023-04-12T14:46:53.125350Z",
     "shell.execute_reply": "2023-04-12T14:46:53.124352Z",
     "shell.execute_reply.started": "2023-04-12T14:46:53.101414Z"
    }
   },
   "outputs": [
    {
     "data": {
      "text/plain": [
       "'3.9.16'"
      ]
     },
     "execution_count": 79,
     "metadata": {},
     "output_type": "execute_result"
    }
   ],
   "source": [
    "# check python version\n",
    "from platform import python_version\n",
    "python_version()"
   ]
  },
  {
   "cell_type": "markdown",
   "id": "3547337f-8bff-457a-a680-3a449adc691c",
   "metadata": {},
   "source": [
    "## Definitions"
   ]
  },
  {
   "cell_type": "code",
   "execution_count": 2,
   "id": "474c8317-7640-42a6-bf49-8cb73a9eb969",
   "metadata": {
    "execution": {
     "iopub.execute_input": "2023-04-12T08:24:34.135565Z",
     "iopub.status.busy": "2023-04-12T08:24:34.135565Z",
     "iopub.status.idle": "2023-04-12T08:24:34.151187Z",
     "shell.execute_reply": "2023-04-12T08:24:34.151187Z",
     "shell.execute_reply.started": "2023-04-12T08:24:34.135565Z"
    },
    "tags": []
   },
   "outputs": [],
   "source": [
    "# chosen parameter values of the single-node-system\n",
    "alpha = 0.1\n",
    "P = 1\n",
    "K = 8\n",
    "theta_ref = 0"
   ]
  },
  {
   "cell_type": "code",
   "execution_count": 3,
   "id": "4e2c5221-d6a8-4cce-b04a-6fbfdfe66772",
   "metadata": {
    "execution": {
     "iopub.execute_input": "2023-04-12T08:24:34.151187Z",
     "iopub.status.busy": "2023-04-12T08:24:34.151187Z",
     "iopub.status.idle": "2023-04-12T08:24:34.166807Z",
     "shell.execute_reply": "2023-04-12T08:24:34.166807Z",
     "shell.execute_reply.started": "2023-04-12T08:24:34.151187Z"
    },
    "tags": []
   },
   "outputs": [],
   "source": [
    "# function that adds two angles and returns the result within the range from -pi to pi\n",
    "def angle_step(a, da):\n",
    "    return math.remainder(a+da, math.tau)-a"
   ]
  },
  {
   "cell_type": "code",
   "execution_count": 4,
   "id": "a223e734-9a37-46c7-8157-5155f83352a7",
   "metadata": {
    "execution": {
     "iopub.execute_input": "2023-04-12T08:24:34.166807Z",
     "iopub.status.busy": "2023-04-12T08:24:34.166807Z",
     "iopub.status.idle": "2023-04-12T08:24:34.182429Z",
     "shell.execute_reply": "2023-04-12T08:24:34.182429Z",
     "shell.execute_reply.started": "2023-04-12T08:24:34.166807Z"
    },
    "tags": []
   },
   "outputs": [],
   "source": [
    "# function that computes the time evolution of the single-node system\n",
    "def dxdt(t, x):\n",
    "    theta, omega = x\n",
    "    return [omega, -alpha*omega +P -K*np.sin(theta-theta_ref)]"
   ]
  },
  {
   "cell_type": "code",
   "execution_count": 5,
   "id": "00f7b0aa-51e0-4ef2-904c-5af0118b70e1",
   "metadata": {
    "execution": {
     "iopub.execute_input": "2023-04-12T08:24:34.182429Z",
     "iopub.status.busy": "2023-04-12T08:24:34.182429Z",
     "iopub.status.idle": "2023-04-12T08:24:34.198051Z",
     "shell.execute_reply": "2023-04-12T08:24:34.198051Z",
     "shell.execute_reply.started": "2023-04-12T08:24:34.182429Z"
    },
    "tags": []
   },
   "outputs": [],
   "source": [
    "# location of the attractor of the system (which represent synchronicity with the grid)\n",
    "theta_s = np.arcsin(P/K)\n",
    "omega_s = 0"
   ]
  },
  {
   "cell_type": "code",
   "execution_count": 6,
   "id": "cd2218a3-9060-488a-8b20-fc8a6c54b9ee",
   "metadata": {
    "execution": {
     "iopub.execute_input": "2023-04-12T08:24:34.198051Z",
     "iopub.status.busy": "2023-04-12T08:24:34.198051Z",
     "iopub.status.idle": "2023-04-12T08:24:34.213672Z",
     "shell.execute_reply": "2023-04-12T08:24:34.213672Z",
     "shell.execute_reply.started": "2023-04-12T08:24:34.198051Z"
    },
    "tags": []
   },
   "outputs": [],
   "source": [
    "# function that performs the time evolution from a given initial state and for a given time horizon\n",
    "def transient(theta_0, omega_0, T):\n",
    "    sol = solve_ivp(fun=dxdt, t_span=[0,T], y0=[theta_0, omega_0])\n",
    "    return {\"t\": sol.t, \"omega\":sol.y[1], \"theta\": [math.remainder(a, math.tau) for a in sol.y[0]]}\n",
    "\n",
    "transient = np.vectorize(transient)"
   ]
  },
  {
   "cell_type": "code",
   "execution_count": 7,
   "id": "cb6af0b4-faab-4c3f-8cb4-d479ef85faf0",
   "metadata": {
    "execution": {
     "iopub.execute_input": "2023-04-12T08:24:34.220194Z",
     "iopub.status.busy": "2023-04-12T08:24:34.213672Z",
     "iopub.status.idle": "2023-04-12T08:24:34.235821Z",
     "shell.execute_reply": "2023-04-12T08:24:34.235821Z",
     "shell.execute_reply.started": "2023-04-12T08:24:34.220194Z"
    },
    "tags": []
   },
   "outputs": [],
   "source": [
    "# function that computes the sustainant as defined in the paper\n",
    "def sustainant(transient):\n",
    "    return 0.5*(1+np.cos(transient[\"theta\"]-theta_s))*np.exp(-1/20*(transient[\"omega\"]-omega_s)**2)\n",
    "\n",
    "sustainant = np.vectorize(sustainant)"
   ]
  },
  {
   "cell_type": "code",
   "execution_count": 8,
   "id": "bdabd142-ed9f-4c73-bbf8-c25c203112f7",
   "metadata": {
    "execution": {
     "iopub.execute_input": "2023-04-12T08:24:34.235821Z",
     "iopub.status.busy": "2023-04-12T08:24:34.235821Z",
     "iopub.status.idle": "2023-04-12T08:24:34.251441Z",
     "shell.execute_reply": "2023-04-12T08:24:34.251441Z",
     "shell.execute_reply.started": "2023-04-12T08:24:34.235821Z"
    },
    "tags": []
   },
   "outputs": [],
   "source": [
    "# function that computes the sustainant deficit based od the minimum acceptable sustainant\n",
    "\n",
    "S_star = 0.99\n",
    "\n",
    "def deficit(transient):\n",
    "    return [ np.max([0, S_star-S]) for S in sustainant(transient)]\n",
    "\n",
    "deficit = np.vectorize(deficit)"
   ]
  },
  {
   "cell_type": "code",
   "execution_count": 9,
   "id": "a96e3b60-0261-4170-85fa-dec85dcd6e85",
   "metadata": {
    "execution": {
     "iopub.execute_input": "2023-04-12T08:24:34.251441Z",
     "iopub.status.busy": "2023-04-12T08:24:34.251441Z",
     "iopub.status.idle": "2023-04-12T08:24:34.282683Z",
     "shell.execute_reply": "2023-04-12T08:24:34.282683Z",
     "shell.execute_reply.started": "2023-04-12T08:24:34.251441Z"
    },
    "tags": []
   },
   "outputs": [],
   "source": [
    "# function that assesses whether a trajectory exceeds a given cost limit\n",
    "L = 50\n",
    "\n",
    "def assess(transient):\n",
    "    d = deficit(transient)\n",
    "    return np.nan if any(d[-10:-1]!=0) else np.sum(np.diff(transient[\"t\"])*d[:-1])\n",
    "\n",
    "assess = np.vectorize(assess)"
   ]
  },
  {
   "cell_type": "code",
   "execution_count": 10,
   "id": "8d3fffca-9727-4d47-bd29-d2a93a74a98f",
   "metadata": {
    "execution": {
     "iopub.execute_input": "2023-04-12T08:24:34.282683Z",
     "iopub.status.busy": "2023-04-12T08:24:34.282683Z",
     "iopub.status.idle": "2023-04-12T08:24:34.298305Z",
     "shell.execute_reply": "2023-04-12T08:24:34.298305Z",
     "shell.execute_reply.started": "2023-04-12T08:24:34.282683Z"
    },
    "tags": []
   },
   "outputs": [],
   "source": [
    "# define the grid in state space to be assessed in terms of resilience\n",
    "res = 200\n",
    "theta_0_range = np.linspace(start=-np.pi, stop=np.pi, num=res) + theta_s\n",
    "omega_0_range = np.linspace(start=-10, stop=10, num=res) + omega_s\n",
    "\n",
    "theta_grid, omega_grid = np.meshgrid(theta_0_range, omega_0_range)\n",
    "theta_grid_, omega_grid_ = theta_grid.flatten(), omega_grid.flatten()"
   ]
  },
  {
   "cell_type": "code",
   "execution_count": 11,
   "id": "2b279ba8-ab7a-4c43-9437-5e8c36bdba1e",
   "metadata": {
    "execution": {
     "iopub.execute_input": "2023-04-12T08:24:34.298305Z",
     "iopub.status.busy": "2023-04-12T08:24:34.298305Z",
     "iopub.status.idle": "2023-04-12T08:24:35.084587Z",
     "shell.execute_reply": "2023-04-12T08:24:35.084587Z",
     "shell.execute_reply.started": "2023-04-12T08:24:34.298305Z"
    },
    "tags": []
   },
   "outputs": [
    {
     "data": {
      "image/png": "[encoded data removed]",
      "text/plain": [
       "<Figure size 640x480 with 2 Axes>"
      ]
     },
     "metadata": {},
     "output_type": "display_data"
    }
   ],
   "source": [
    "# define the probability density over the state space\n",
    "sus_grid = (0.5*(1+np.cos(theta_grid_-theta_s))*np.exp(-0.05*omega_grid_**2)).reshape(theta_grid.shape)\n",
    "plt.contourf(theta_grid-theta_s, omega_grid, sus_grid, cmap=\"binary_r\")\n",
    "plt.colorbar()\n",
    "plt.xlabel(\"$\\\\theta-\\\\theta_s$\")\n",
    "plt.ylabel(\"$\\omega$\")\n",
    "plt.show()"
   ]
  },
  {
   "cell_type": "markdown",
   "id": "13bada53-dd5e-4943-81a5-333d578d2a7d",
   "metadata": {},
   "source": [
    "## Results"
   ]
  },
  {
   "cell_type": "code",
   "execution_count": 12,
   "id": "87bd2625-42ae-40f9-80a7-53dc3c056c07",
   "metadata": {
    "execution": {
     "iopub.execute_input": "2023-04-12T08:24:35.084587Z",
     "iopub.status.busy": "2023-04-12T08:24:35.084587Z",
     "iopub.status.idle": "2023-04-12T09:01:00.920610Z",
     "shell.execute_reply": "2023-04-12T09:01:00.920610Z",
     "shell.execute_reply.started": "2023-04-12T08:24:35.084587Z"
    },
    "tags": []
   },
   "outputs": [],
   "source": [
    "# compute the costs of all trajectories as a grid\n",
    "T = 120\n",
    "cost_grid = assess(transient(theta_grid_, omega_grid_, T)).reshape(theta_grid.shape)"
   ]
  },
  {
   "cell_type": "code",
   "execution_count": 36,
   "id": "3c7f914a-15af-4149-9dda-b493ef06ce33",
   "metadata": {
    "execution": {
     "iopub.execute_input": "2023-04-12T11:23:44.777578Z",
     "iopub.status.busy": "2023-04-12T11:23:44.777578Z",
     "iopub.status.idle": "2023-04-12T11:23:44.787635Z",
     "shell.execute_reply": "2023-04-12T11:23:44.787635Z",
     "shell.execute_reply.started": "2023-04-12T11:23:44.777578Z"
    }
   },
   "outputs": [],
   "source": [
    "# export the grid as a local file for asynchronous data analysis\n",
    "np.save(\"cost_grid\", cost_grid)"
   ]
  },
  {
   "cell_type": "code",
   "execution_count": 37,
   "id": "0accacfc-148b-4520-8534-af766d9d49fd",
   "metadata": {
    "execution": {
     "iopub.execute_input": "2023-04-12T11:24:13.882301Z",
     "iopub.status.busy": "2023-04-12T11:24:13.882301Z",
     "iopub.status.idle": "2023-04-12T11:24:13.907632Z",
     "shell.execute_reply": "2023-04-12T11:24:13.907632Z",
     "shell.execute_reply.started": "2023-04-12T11:24:13.882301Z"
    }
   },
   "outputs": [],
   "source": [
    "# load the local file\n",
    "cost_grid = np.load(\"cost_grid.npy\")"
   ]
  },
  {
   "cell_type": "code",
   "execution_count": 38,
   "id": "d4e26b11-f1c3-4540-affd-3a9ef7113a74",
   "metadata": {
    "execution": {
     "iopub.execute_input": "2023-04-12T11:24:18.001737Z",
     "iopub.status.busy": "2023-04-12T11:24:18.000746Z",
     "iopub.status.idle": "2023-04-12T11:24:18.287571Z",
     "shell.execute_reply": "2023-04-12T11:24:18.287058Z",
     "shell.execute_reply.started": "2023-04-12T11:24:18.001737Z"
    },
    "tags": []
   },
   "outputs": [
    {
     "data": {
      "image/png": "[encoded data removed]",
      "text/plain": [
       "<Figure size 640x480 with 2 Axes>"
      ]
     },
     "metadata": {},
     "output_type": "display_data"
    }
   ],
   "source": [
    "# plot the cost grid\n",
    "\n",
    "plt.contourf(theta_grid-theta_s, omega_grid, cost_grid, cmap=\"binary_r\")\n",
    "plt.colorbar()\n",
    "plt.xlabel(\"$\\\\theta-\\\\theta_s$\")\n",
    "plt.ylabel(\"$\\omega$\")\n",
    "plt.show()"
   ]
  },
  {
   "cell_type": "code",
   "execution_count": 46,
   "id": "63c78e06-991f-41a7-ada0-dd92f5d4c7cb",
   "metadata": {
    "execution": {
     "iopub.execute_input": "2023-04-12T11:29:20.597761Z",
     "iopub.status.busy": "2023-04-12T11:29:20.597761Z",
     "iopub.status.idle": "2023-04-12T11:29:21.037902Z",
     "shell.execute_reply": "2023-04-12T11:29:21.037902Z",
     "shell.execute_reply.started": "2023-04-12T11:29:20.597761Z"
    },
    "tags": []
   },
   "outputs": [
    {
     "data": {
      "image/png": "[encoded data removed]",
      "text/plain": [
       "<Figure size 640x480 with 1 Axes>"
      ]
     },
     "metadata": {},
     "output_type": "display_data"
    }
   ],
   "source": [
    "# plot a histogram of the cost distribution to choose a sensible limit\n",
    "plt.hist(cost_grid.flatten(), bins=100)\n",
    "plt.semilogy()\n",
    "plt.show()"
   ]
  },
  {
   "cell_type": "code",
   "execution_count": 60,
   "id": "c92c5cca-11ae-4046-a224-8277b3d82ec4",
   "metadata": {
    "execution": {
     "iopub.execute_input": "2023-04-12T11:39:58.958706Z",
     "iopub.status.busy": "2023-04-12T11:39:58.958706Z",
     "iopub.status.idle": "2023-04-12T11:39:59.188678Z",
     "shell.execute_reply": "2023-04-12T11:39:59.188678Z",
     "shell.execute_reply.started": "2023-04-12T11:39:58.958706Z"
    },
    "tags": []
   },
   "outputs": [],
   "source": [
    "# compute the resilience basin grid\n",
    "L = 12\n",
    "a = cost_grid < L\n",
    "basin_grid = np.where(np.isnan(a), 0, a)"
   ]
  },
  {
   "cell_type": "code",
   "execution_count": 78,
   "id": "85a291c8-e5ae-41dc-b3d4-58a86a4ac179",
   "metadata": {
    "execution": {
     "iopub.execute_input": "2023-04-12T13:12:46.595654Z",
     "iopub.status.busy": "2023-04-12T13:12:46.595654Z",
     "iopub.status.idle": "2023-04-12T13:12:47.060390Z",
     "shell.execute_reply": "2023-04-12T13:12:47.060390Z",
     "shell.execute_reply.started": "2023-04-12T13:12:46.595654Z"
    },
    "tags": []
   },
   "outputs": [
    {
     "data": {
      "image/png": "[encoded data removed]",
      "text/plain": [
       "<Figure size 400x400 with 1 Axes>"
      ]
     },
     "metadata": {},
     "output_type": "display_data"
    }
   ],
   "source": [
    "# plot the resilience basin\n",
    "plt.figure(figsize=(4,4))\n",
    "plt.contourf(theta_grid-theta_s, omega_grid, basin_grid, levels=1, colors=[\"k\", \"w\"])\n",
    "plt.scatter(x=0, y=0, c=\"grey\", s=2)\n",
    "#plt.colorbar()\n",
    "plt.xlabel(\"$\\\\theta_0-\\\\theta_s$\")\n",
    "plt.xticks(np.linspace(-np.pi, np.pi, num=9), [\"$-\\pi$\", \"\", \"$-\\\\frac{\\pi}{2}$\", \"\", \"0\", \"\", \"$\\\\frac{\\pi}{2}$\", \"\", \"$\\pi$\"])\n",
    "plt.ylabel(\"$\\omega_0$\")\n",
    "#plt.show()\n",
    "\n",
    "plt.savefig(\"figure4.pdf\", bbox_inches=\"tight\")"
   ]
  },
  {
   "cell_type": "code",
   "execution_count": 61,
   "id": "4a0fd895-a516-4595-a2e7-542dc39222ea",
   "metadata": {
    "execution": {
     "iopub.execute_input": "2023-04-12T11:41:41.108666Z",
     "iopub.status.busy": "2023-04-12T11:41:41.108666Z",
     "iopub.status.idle": "2023-04-12T11:41:41.128737Z",
     "shell.execute_reply": "2023-04-12T11:41:41.128737Z",
     "shell.execute_reply.started": "2023-04-12T11:41:41.108666Z"
    },
    "tags": []
   },
   "outputs": [
    {
     "data": {
      "text/plain": [
       "47.31238536306229"
      ]
     },
     "execution_count": 61,
     "metadata": {},
     "output_type": "execute_result"
    }
   ],
   "source": [
    "# compute the resilience value\n",
    "basin_grid.sum()*(2*np.pi*20/res**2)"
   ]
  },
  {
   "cell_type": "code",
   "execution_count": 62,
   "id": "856d47ca-db8c-4a23-9ec8-50b4b9833932",
   "metadata": {
    "execution": {
     "iopub.execute_input": "2023-04-12T11:42:01.098721Z",
     "iopub.status.busy": "2023-04-12T11:42:01.098721Z",
     "iopub.status.idle": "2023-04-12T11:42:01.118477Z",
     "shell.execute_reply": "2023-04-12T11:42:01.118477Z",
     "shell.execute_reply.started": "2023-04-12T11:42:01.098721Z"
    },
    "tags": []
   },
   "outputs": [
    {
     "data": {
      "text/plain": [
       "125.66370614359172"
      ]
     },
     "execution_count": 62,
     "metadata": {},
     "output_type": "execute_result"
    }
   ],
   "source": [
    "# calculate area of the space of initial conditions defined earlier\n",
    "# this is the maximum achievable size of the resilience basin\n",
    "(2*np.pi*20)"
   ]
  }
 ],
 "metadata": {
  "kernelspec": {
   "display_name": "Python 3 (ipykernel)",
   "language": "python",
   "name": "python3"
  },
  "language_info": {
   "codemirror_mode": {
    "name": "ipython",
    "version": 3
   },
   "file_extension": ".py",
   "mimetype": "text/x-python",
   "name": "python",
   "nbconvert_exporter": "python",
   "pygments_lexer": "ipython3",
   "version": "3.11.4"
  },
  "widgets": {
   "application/vnd.jupyter.widget-state+json": {
    "state": {},
    "version_major": 2,
    "version_minor": 0
   }
  }
 },
 "nbformat": 4,
 "nbformat_minor": 5
}
