{
 "cells": [
  {
   "cell_type": "markdown",
   "metadata": {},
   "source": [
    "# Evaluations\n",
    "\n",
    "This file contains code used to create the plots of the results section.\n",
    "\n",
    "This code is in notebook form to make it more readable and interactive.\n",
    "\n",
    "Some of this code requires the Julia package Interact along with the Jupyter extension WebIO."
   ]
  },
  {
   "cell_type": "markdown",
   "metadata": {},
   "source": [
    "### Packages"
   ]
  },
  {
   "cell_type": "code",
   "execution_count": null,
   "metadata": {
    "tags": []
   },
   "outputs": [],
   "source": [
    "using Pkg\n",
    "Pkg.build(\"PyPlot\")"
   ]
  },
  {
   "cell_type": "code",
   "execution_count": null,
   "metadata": {
    "tags": []
   },
   "outputs": [],
   "source": [
    "using Interact\n",
    "using CSV\n",
    "using DataFrames\n",
    "#using Distributions\n",
    "using Plots; pyplot();\n",
    "#using Tables\n",
    "#using GLM\n",
    "#using LsqFit"
   ]
  },
  {
   "cell_type": "code",
   "execution_count": null,
   "metadata": {
    "tags": []
   },
   "outputs": [],
   "source": [
    "include(\"1.0_Functions.jl\");\n",
    "include(\"1.1_Plotting_Functions.jl\");"
   ]
  },
  {
   "cell_type": "code",
   "execution_count": null,
   "metadata": {
    "tags": []
   },
   "outputs": [],
   "source": [
    "# select from pre-defined output paths (useful when switching between devices)\n",
    "#choose_output_path([\"Path/A\", \"Path/B\"])\n",
    "\n",
    "# or set output path manually\n",
    "output_path = \"Your/Path/Here\""
   ]
  },
  {
   "cell_type": "markdown",
   "metadata": {},
   "source": [
    "### Evaluating Adaptation Strategies"
   ]
  },
  {
   "cell_type": "code",
   "execution_count": null,
   "metadata": {},
   "outputs": [],
   "source": [
    "# summarize QMC samples into single resilience value\n",
    "qmc_summary(output_path)"
   ]
  },
  {
   "cell_type": "code",
   "execution_count": null,
   "metadata": {},
   "outputs": [],
   "source": [
    "# summarize resilience values into resilience curve for each strategy\n",
    "strategy_summary(output_path)"
   ]
  },
  {
   "cell_type": "code",
   "execution_count": null,
   "metadata": {},
   "outputs": [],
   "source": [
    "# interactively plot resilience basins as QMC scatter plots\n",
    "qmc_visualizer(output_path, sizzle=(1020,1000),fontfac=4, dpi=300)"
   ]
  },
  {
   "cell_type": "code",
   "execution_count": null,
   "metadata": {
    "tags": []
   },
   "outputs": [],
   "source": [
    "# interactively plot strategy resilience curves\n",
    "strategy_visualizer(output_path)"
   ]
  },
  {
   "cell_type": "code",
   "execution_count": null,
   "metadata": {
    "tags": []
   },
   "outputs": [],
   "source": [
    "# save most recent plot as PDF\n",
    "savefig(\"$(time()).pdf\")"
   ]
  }
 ],
 "metadata": {
  "@webio": {
   "lastCommId": "16f94cbc-c493-4852-9eb6-32ff374d1660",
   "lastKernelId": "ec9f90be-3fa5-4613-8f00-5d77126f43d2"
  },
  "kernelspec": {
   "display_name": "Julia 1.5.3",
   "language": "julia",
   "name": "julia-1.5"
  },
  "language_info": {
   "file_extension": ".jl",
   "mimetype": "application/julia",
   "name": "julia",
   "version": "1.5.3"
  }
 },
 "nbformat": 4,
 "nbformat_minor": 4
}
