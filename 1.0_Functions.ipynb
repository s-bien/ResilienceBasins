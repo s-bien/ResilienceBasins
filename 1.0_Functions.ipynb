{
 "cells": [
  {
   "cell_type": "markdown",
   "metadata": {},
   "source": [
    "# Functions"
   ]
  },
  {
   "cell_type": "markdown",
   "metadata": {},
   "source": [
    "This file contains function definitions that are used to process the input data and perfrom the power grid simulations.\n",
    "\n",
    "This code is in notebook form to make it more readable.\n",
    "The same code is available as a Julia script (.jl) file for importing it into other scripts."
   ]
  },
  {
   "cell_type": "markdown",
   "metadata": {},
   "source": [
    "### Packages"
   ]
  },
  {
   "cell_type": "code",
   "execution_count": 1,
   "metadata": {},
   "outputs": [],
   "source": [
    "using ProgressMeter\n",
    "using Distributed"
   ]
  },
  {
   "cell_type": "markdown",
   "metadata": {},
   "source": [
    "### Data reading and processing functions"
   ]
  },
  {
   "cell_type": "code",
   "execution_count": 2,
   "metadata": {},
   "outputs": [
    {
     "data": {
      "text/plain": [
       "data2dict (generic function with 1 method)"
      ]
     },
     "execution_count": 2,
     "metadata": {},
     "output_type": "execute_result"
    }
   ],
   "source": [
    "# function that divides a time series into chunks and saves them as a dictionary\n",
    "function data2dict(data,days)\n",
    "    dict = Dict()\n",
    "    L = Int(floor(length(data)/days))\n",
    "    for d in 1:days\n",
    "        dict[d] = data[(d-1)*L+1:d*L]\n",
    "    end\n",
    "    return dict\n",
    "end"
   ]
  },
  {
   "cell_type": "code",
   "execution_count": 3,
   "metadata": {},
   "outputs": [
    {
     "data": {
      "text/plain": [
       "goodkeys (generic function with 1 method)"
      ]
     },
     "execution_count": 3,
     "metadata": {},
     "output_type": "execute_result"
    }
   ],
   "source": [
    "# function that returns keys of a dictionary in a sorted order (rather than random)\n",
    "function goodkeys(dict)\n",
    "    list = []\n",
    "    for key in keys(dict)\n",
    "        append!(list,key)\n",
    "    end\n",
    "    return sort(list)\n",
    "end"
   ]
  },
  {
   "cell_type": "code",
   "execution_count": 4,
   "metadata": {},
   "outputs": [
    {
     "data": {
      "text/plain": [
       "goodvals (generic function with 1 method)"
      ]
     },
     "execution_count": 4,
     "metadata": {},
     "output_type": "execute_result"
    }
   ],
   "source": [
    "# function that returns the values of a dictionary in the corresponding order\n",
    "function goodvals(dict)\n",
    "    list = []\n",
    "    for key in goodkeys(dict)\n",
    "        append!(list,dict[key])\n",
    "    end\n",
    "    return list\n",
    "end"
   ]
  },
  {
   "cell_type": "code",
   "execution_count": 5,
   "metadata": {},
   "outputs": [
    {
     "data": {
      "text/plain": [
       "merger (generic function with 1 method)"
      ]
     },
     "execution_count": 5,
     "metadata": {},
     "output_type": "execute_result"
    }
   ],
   "source": [
    "# function that resamples a time series array to a new resolution\n",
    "function merger(array,resolution)\n",
    "    new_array = []\n",
    "    bin = 0\n",
    "    count = 0\n",
    "    for i in array\n",
    "        bin += i/resolution\n",
    "        count += 1\n",
    "        if count == resolution\n",
    "            append!(new_array,bin)\n",
    "            bin = 0\n",
    "            count = 0\n",
    "        end\n",
    "    end\n",
    "    return new_array\n",
    "end"
   ]
  },
  {
   "cell_type": "code",
   "execution_count": 6,
   "metadata": {},
   "outputs": [
    {
     "data": {
      "text/plain": [
       "smoother (generic function with 1 method)"
      ]
     },
     "execution_count": 6,
     "metadata": {},
     "output_type": "execute_result"
    }
   ],
   "source": [
    "# function that applies the resampling above to a whole dictionary of arrays\n",
    "function smoother(dict,resolution)\n",
    "    new_dict = Dict()\n",
    "    for k in keys(dict)\n",
    "        new_dict[k] = merger(dict[k],resolution)\n",
    "    end\n",
    "    return new_dict\n",
    "end"
   ]
  },
  {
   "cell_type": "code",
   "execution_count": 7,
   "metadata": {},
   "outputs": [
    {
     "data": {
      "text/plain": [
       "combo_hist (generic function with 1 method)"
      ]
     },
     "execution_count": 7,
     "metadata": {},
     "output_type": "execute_result"
    }
   ],
   "source": [
    "# struct with two fields\n",
    "struct combo_struct\n",
    "    list\n",
    "    ratio\n",
    "end\n",
    "\n",
    "# function to combine dictionaries of consumption + supply time series, and save the combination ratio\n",
    "function combo_hist(c_dict, s_dict; ratio=1)\n",
    "    \n",
    "    list = []\n",
    "    for c_key in keys(c_dict)\n",
    "        for s_key in keys(s_dict)\n",
    "            append!(list, ratio*s_dict[s_key]-c_dict[c_key])\n",
    "        end\n",
    "    end\n",
    "\n",
    "    return combo_struct(sort(list),ratio)\n",
    "end"
   ]
  },
  {
   "cell_type": "markdown",
   "metadata": {},
   "source": [
    "### Graph functions"
   ]
  },
  {
   "cell_type": "code",
   "execution_count": 8,
   "metadata": {},
   "outputs": [
    {
     "data": {
      "text/plain": [
       "create_grid (generic function with 1 method)"
      ]
     },
     "execution_count": 8,
     "metadata": {},
     "output_type": "execute_result"
    }
   ],
   "source": [
    "# function to create a power grid-like graph\n",
    "function create_grid(n, n0, p, q, r)\n",
    "    s = 0.\n",
    "    u = 1.\n",
    "    return generate_graph( RandomPowerGrid(n, n0, p, q, r, s, u) )\n",
    "end"
   ]
  },
  {
   "cell_type": "code",
   "execution_count": 9,
   "metadata": {},
   "outputs": [
    {
     "data": {
      "text/plain": [
       "graphcopy (generic function with 1 method)"
      ]
     },
     "execution_count": 9,
     "metadata": {},
     "output_type": "execute_result"
    }
   ],
   "source": [
    "# function to create a copy of a graph object (pointers will overwrite the original instance)\n",
    "function graphcopy(graph)\n",
    "    n = nv(graph)\n",
    "    a = adjacency_matrix(graph)\n",
    "    copy = SimpleGraph(n)\n",
    "    for i in 1:n\n",
    "        for j in i+1:n\n",
    "            if a[i,j] !== 0\n",
    "                add_edge!(copy,i,j)\n",
    "            end\n",
    "        end\n",
    "    end\n",
    "    return copy\n",
    "end"
   ]
  },
  {
   "cell_type": "code",
   "execution_count": 10,
   "metadata": {},
   "outputs": [
    {
     "data": {
      "text/plain": [
       "embedded_graphcopy (generic function with 1 method)"
      ]
     },
     "execution_count": 10,
     "metadata": {},
     "output_type": "execute_result"
    }
   ],
   "source": [
    "# function to copy an embedded graph object\n",
    "function embedded_graphcopy(eg)\n",
    "\n",
    "    loc_x = vertices_loc(eg,1)\n",
    "    loc_y = vertices_loc(eg,2)\n",
    "    loc_vector = [[loc_x[i],loc_y[i]+1] for i in 1:length(loc_x)]\n",
    "    return EmbeddedGraph(graphcopy(eg), loc_vector)\n",
    "    \n",
    "end"
   ]
  },
  {
   "cell_type": "code",
   "execution_count": 11,
   "metadata": {},
   "outputs": [
    {
     "data": {
      "text/plain": [
       "index2edge (generic function with 1 method)"
      ]
     },
     "execution_count": 11,
     "metadata": {},
     "output_type": "execute_result"
    }
   ],
   "source": [
    "# function to get the edge object of a certain index within a graph\n",
    "function index2edge(graph, index)\n",
    "    i=1\n",
    "    for e in edges(graph)\n",
    "        if i == index\n",
    "            return e\n",
    "        else\n",
    "            i+=1\n",
    "        end\n",
    "    end\n",
    "end"
   ]
  },
  {
   "cell_type": "code",
   "execution_count": 12,
   "metadata": {},
   "outputs": [
    {
     "data": {
      "text/plain": [
       "edge2index (generic function with 1 method)"
      ]
     },
     "execution_count": 12,
     "metadata": {},
     "output_type": "execute_result"
    }
   ],
   "source": [
    "# function to get the index number of a certain edge object\n",
    "function edge2index(graph, src, dst)\n",
    "    a=adjacency_matrix(graph)\n",
    "    n = nv(graph)\n",
    "    counter = 0\n",
    "    for i in 1:src\n",
    "        for j in i+1:n\n",
    "            if a[i,j] !== 0\n",
    "                counter += 1\n",
    "                if i==src && j==dst\n",
    "                    return counter\n",
    "                end\n",
    "            end\n",
    "        end\n",
    "    end\n",
    "end"
   ]
  },
  {
   "cell_type": "markdown",
   "metadata": {},
   "source": [
    "### Power generation functions"
   ]
  },
  {
   "cell_type": "code",
   "execution_count": 13,
   "metadata": {},
   "outputs": [],
   "source": [
    "# struct with two fields for old and new states of a power grid\n",
    "struct old_new_struct\n",
    "    old\n",
    "    new\n",
    "end"
   ]
  },
  {
   "cell_type": "code",
   "execution_count": 14,
   "metadata": {},
   "outputs": [
    {
     "data": {
      "text/plain": [
       "set_prosumers (generic function with 1 method)"
      ]
     },
     "execution_count": 14,
     "metadata": {},
     "output_type": "execute_result"
    }
   ],
   "source": [
    "# function that randomly allocates the prosumer identity to a given number of nodes\n",
    "# two stages are returned, first with P1 and second with P2 prosumers\n",
    "function set_prosumers(N,P1,P2,S)\n",
    "    \n",
    "    draw = sample(1:N-1,P2,replace=false)\n",
    "    for i in 1:P2\n",
    "        if draw[i] >= S\n",
    "            draw[i] += 1\n",
    "        end\n",
    "    end\n",
    "    vec1 = zeros(Int,N)\n",
    "    vec2 = zeros(Int,N)\n",
    "    \n",
    "    for i in 1:P2\n",
    "        \n",
    "        if i <= P1\n",
    "            vec1[draw[i]] = 1\n",
    "        end\n",
    "        vec2[draw[i]] = 1\n",
    "             \n",
    "    end\n",
    "        \n",
    "    return old_new_struct(vec1,vec2)\n",
    "end"
   ]
  },
  {
   "cell_type": "code",
   "execution_count": 15,
   "metadata": {},
   "outputs": [
    {
     "data": {
      "text/plain": [
       "randomdraw (generic function with 1 method)"
      ]
     },
     "execution_count": 15,
     "metadata": {},
     "output_type": "execute_result"
    }
   ],
   "source": [
    "# function that selects a value from a random timeseries in a dictionary at a given time\n",
    "function randomdraw(dict, time)\n",
    "    day = rand(keys(dict))\n",
    "    index = Int( ceil( time*length(dict[day]) ))\n",
    "    return dict[day][index]\n",
    "end"
   ]
  },
  {
   "cell_type": "code",
   "execution_count": 16,
   "metadata": {},
   "outputs": [],
   "source": [
    "# struct with two fields for power demand and supply values\n",
    "struct power_struct\n",
    "    demand\n",
    "    supply\n",
    "end"
   ]
  },
  {
   "cell_type": "code",
   "execution_count": 17,
   "metadata": {},
   "outputs": [
    {
     "data": {
      "text/plain": [
       "power_randomdraws (generic function with 1 method)"
      ]
     },
     "execution_count": 17,
     "metadata": {},
     "output_type": "execute_result"
    }
   ],
   "source": [
    "# function to generate random step-wise time series of demand and supply for each node of a given power grid\n",
    "# these are only used to calculate initial line capacities\n",
    "function power_randomdraws(solar_map, solar_dict, consumer_dict, prosumer_ratio, timesteps, slack_index)\n",
    "    \n",
    "    NV = length(solar_map)\n",
    "    consumption, production = zeros(timesteps,NV), zeros(timesteps,NV)\n",
    "    \n",
    "    for t in 1:timesteps\n",
    "        \n",
    "        time = rand()\n",
    "        \n",
    "        for n in 1:NV\n",
    "            if n != slack_index\n",
    "                consumption[t,n] = randomdraw(consumer_dict,time)\n",
    "            end\n",
    "            if solar_map[n] == 1\n",
    "                production[t,n] = prosumer_ratio*randomdraw(solar_dict,time)\n",
    "            end\n",
    "        end\n",
    "        \n",
    "        #consumption[t,slack_index] = -sum(consumption[t,:])\n",
    "        #production[t,slack_index] = -sum(production[t,:])\n",
    "    end\n",
    "    \n",
    "    return power_struct(consumption,production)\n",
    "end"
   ]
  },
  {
   "cell_type": "code",
   "execution_count": 18,
   "metadata": {},
   "outputs": [
    {
     "data": {
      "text/plain": [
       "power_timeseries (generic function with 1 method)"
      ]
     },
     "execution_count": 18,
     "metadata": {},
     "output_type": "execute_result"
    }
   ],
   "source": [
    "# function to generate random chunk-wise time series of demand and supply for each node of a given power grid\n",
    "# these are used in the actual simulation\n",
    "function power_timeseries(solar_map, solar_dict, consumer_dict, prosumer_ratio, days, time_resolution, slack_index)\n",
    "    \n",
    "    NV = length(solar_map)\n",
    "    timesteps = Int(ceil(24*60/time_resolution))\n",
    "    \n",
    "    L = days*timesteps\n",
    "    consumption, production = zeros(L,NV), zeros(L,NV)\n",
    "    \n",
    "    for n in 1:NV\n",
    "        for d in 1:days\n",
    "            \n",
    "            if n != slack_index\n",
    "                c_draw = sample(1:consumption_days)\n",
    "                consumption[ (d-1)*timesteps+1 : d*timesteps,n] = consumer_dict[c_draw]\n",
    "                \n",
    "                if solar_map[n] == 1\n",
    "                    s_draw = sample(1:solar_days)\n",
    "                    production[ (d-1)*timesteps+1 : d*timesteps,n] = prosumer_ratio*solar_dict[s_draw]\n",
    "                end\n",
    "            end\n",
    "        end\n",
    "    end\n",
    "    \n",
    "    #for t in 1:L\n",
    "    #    consumption[t,slack_index] = -sum(consumption[t,:])\n",
    "    #    production[t,slack_index] = -sum(production[t,:])\n",
    "    #end\n",
    "        \n",
    "    return power_struct(consumption,production)\n",
    "end"
   ]
  },
  {
   "cell_type": "markdown",
   "metadata": {},
   "source": [
    "### Power flow functions"
   ]
  },
  {
   "cell_type": "code",
   "execution_count": 19,
   "metadata": {},
   "outputs": [
    {
     "data": {
      "text/plain": [
       "flow (generic function with 1 method)"
      ]
     },
     "execution_count": 19,
     "metadata": {},
     "output_type": "execute_result"
    }
   ],
   "source": [
    "# function to compute the linear power flows on a given graph with given power injections\n",
    "function flow(g, p)\n",
    "    b = incidence_matrix(g, Float64, oriented=true)\n",
    "    f = lsqr(b, p)\n",
    "    @assert all(isfinite.(f))\n",
    "    return -floor.(f, digits=16)\n",
    "end"
   ]
  },
  {
   "cell_type": "code",
   "execution_count": 20,
   "metadata": {},
   "outputs": [
    {
     "data": {
      "text/plain": [
       "max_flows (generic function with 1 method)"
      ]
     },
     "execution_count": 20,
     "metadata": {},
     "output_type": "execute_result"
    }
   ],
   "source": [
    "# function to extract the maximum magnitude of flows occuring on each edge given a time series of injections\n",
    "function max_flows(grid, p_timeseries, slack_index)\n",
    "    NE = ne(grid)\n",
    "    len = size(p_timeseries.demand)[1]\n",
    "    fseries = zeros(len,NE)\n",
    "    \n",
    "    injection = p_timeseries.supply-p_timeseries.demand\n",
    "    \n",
    "    for i in 1:len\n",
    "        injection[i,slack_index] = -sum(injection[i,:])\n",
    "        fseries[i,:] = abs.(flow(grid,injection[i,:]))\n",
    "    end\n",
    "    \n",
    "    max = zeros(NE)\n",
    "    for j in 1:NE\n",
    "        max[j] = maximum(fseries[:,j])\n",
    "    end\n",
    "    \n",
    "    return floor.(max, digits=16)\n",
    "end"
   ]
  },
  {
   "cell_type": "markdown",
   "metadata": {},
   "source": [
    "### Budget allocation functions"
   ]
  },
  {
   "cell_type": "code",
   "execution_count": 21,
   "metadata": {},
   "outputs": [
    {
     "data": {
      "text/plain": [
       "zero_corrector (generic function with 1 method)"
      ]
     },
     "execution_count": 21,
     "metadata": {},
     "output_type": "execute_result"
    }
   ],
   "source": [
    "# function that corrects a given edge budget allocation\n",
    "# such that the minimum non-zero allocation is large enough to prevent numerical errors\n",
    "function zero_corrector(weights, nll)\n",
    "    \n",
    "    new_weights = floor.( copy(weights), digits=16)\n",
    "    \n",
    "    if sum(new_weights) == 0\n",
    "        new_weights = ones(length(weights))\n",
    "    else\n",
    "        min_weight = minimum( filter(e->e!=0, weights) )\n",
    "        @assert min_weight > 0\n",
    "\n",
    "        if length(nll) > 0\n",
    "            for e in nll\n",
    "                if new_weights[e] == 0\n",
    "                    new_weights[e] = min_weight\n",
    "                end\n",
    "            end\n",
    "        end\n",
    "    end\n",
    "    \n",
    "    new_weights = floor.( new_weights, digits=16)\n",
    "    @assert any(new_weights.>0)\n",
    "    return new_weights\n",
    "end"
   ]
  },
  {
   "cell_type": "markdown",
   "metadata": {},
   "source": [
    "#### uniform"
   ]
  },
  {
   "cell_type": "code",
   "execution_count": 22,
   "metadata": {},
   "outputs": [
    {
     "data": {
      "text/plain": [
       "line_lengths (generic function with 1 method)"
      ]
     },
     "execution_count": 22,
     "metadata": {},
     "output_type": "execute_result"
    }
   ],
   "source": [
    "# function to compute euclidean lenghts of edges in an embedded graph\n",
    "function line_lengths(grid)\n",
    "    \n",
    "    lengths = zeros(ne(grid))\n",
    "    \n",
    "    for e in 1:ne(grid)\n",
    "        edge = index2edge(grid,e)\n",
    "        i = src(edge)\n",
    "        j = dst(edge)\n",
    "        lengths[e] = euclidean(grid.vertexpos[i], grid.vertexpos[j])\n",
    "    end\n",
    "    \n",
    "    lengths = floor.(lengths, digits=16)\n",
    "    @assert all(lengths.>0)\n",
    "    return lengths\n",
    "end"
   ]
  },
  {
   "cell_type": "code",
   "execution_count": 23,
   "metadata": {},
   "outputs": [
    {
     "data": {
      "text/plain": [
       "edge_weights_uniform (generic function with 1 method)"
      ]
     },
     "execution_count": 23,
     "metadata": {},
     "output_type": "execute_result"
    }
   ],
   "source": [
    "# function to generate edge weights proportional to endge length\n",
    "# this corresponds to uniform capacity upgrades\n",
    "function edge_weights_uniform(grid)\n",
    "   \n",
    "    weights = ones(ne(grid))\n",
    "    #weight corrector unnecessary\n",
    "    \n",
    "    for e in 1:length(weights)\n",
    "        edge = index2edge(grid,e)\n",
    "        i = src(edge)\n",
    "        j = dst(edge)\n",
    "        weights[e] *= euclidean(grid.vertexpos[i], grid.vertexpos[j])\n",
    "    end\n",
    "    \n",
    "    weights /= sum(weights)\n",
    "    return floor.(weights,digits=16)\n",
    "end"
   ]
  },
  {
   "cell_type": "markdown",
   "metadata": {},
   "source": [
    "#### closeness"
   ]
  },
  {
   "cell_type": "code",
   "execution_count": 24,
   "metadata": {},
   "outputs": [
    {
     "data": {
      "text/plain": [
       "gdist_matrix (generic function with 1 method)"
      ]
     },
     "execution_count": 24,
     "metadata": {},
     "output_type": "execute_result"
    }
   ],
   "source": [
    "# function to compute pairwise graph distances between nodes of a graph\n",
    "function gdist_matrix(grid)\n",
    "    \n",
    "    NV = nv(grid)\n",
    "    m = zeros(NV, NV)\n",
    "    \n",
    "    for i in 1:NV\n",
    "        m[i,:] = gdistances(grid,i)\n",
    "    end\n",
    "    \n",
    "    return m\n",
    "end"
   ]
  },
  {
   "cell_type": "code",
   "execution_count": 25,
   "metadata": {},
   "outputs": [
    {
     "data": {
      "text/plain": [
       "edge_weights_by_closeness (generic function with 1 method)"
      ]
     },
     "execution_count": 25,
     "metadata": {},
     "output_type": "execute_result"
    }
   ],
   "source": [
    "# function to generate edge weights proportional to their length times the sum of their closenesses to all prosumer nodes\n",
    "# closeness is here defined as the distance raised to a negative exponent\n",
    "function edge_weights_by_closeness(grid, map, exponent)\n",
    "   \n",
    "    gdm = gdist_matrix(grid)\n",
    "    \n",
    "    weights = zeros(ne(grid))\n",
    "    for e in 1:length(weights)\n",
    "        edge = index2edge(grid,e)\n",
    "        i = src(edge)\n",
    "        j = dst(edge)\n",
    "        \n",
    "        dist_list = [minimum([gdm[i,v],gdm[j,v]])+1 for v in 1:nv(grid)]\n",
    "        weights[e] = sum(map .* (dist_list.^exponent) ) * euclidean(grid.vertexpos[i], grid.vertexpos[j])\n",
    "    end\n",
    "    \n",
    "    #weights = zero_corrector(weights, [])\n",
    "    weights /= sum(weights)\n",
    "    return floor.(weights,digits=16)\n",
    "end"
   ]
  },
  {
   "cell_type": "markdown",
   "metadata": {},
   "source": [
    "#### risktest aka flowtest (not included in final article)"
   ]
  },
  {
   "cell_type": "code",
   "execution_count": 26,
   "metadata": {},
   "outputs": [
    {
     "data": {
      "text/plain": [
       "count_violations (generic function with 1 method)"
      ]
     },
     "execution_count": 26,
     "metadata": {},
     "output_type": "execute_result"
    }
   ],
   "source": [
    "# function that computes the exceedings of power flows over line capacities\n",
    "# based on a gives power injection snapshot\n",
    "function count_violations(grid, caps, power)\n",
    "    \n",
    "    diff = abs.(flow(grid,power.supply-power.demand)) - caps\n",
    "    \n",
    "    for i in 1:length(diff)\n",
    "        if diff[i] < 0\n",
    "            diff[i] = 0\n",
    "        end\n",
    "    end\n",
    "    \n",
    "    return floor.(diff, digits=16)\n",
    "end"
   ]
  },
  {
   "cell_type": "code",
   "execution_count": 27,
   "metadata": {},
   "outputs": [
    {
     "data": {
      "text/plain": [
       "max_violations (generic function with 1 method)"
      ]
     },
     "execution_count": 27,
     "metadata": {},
     "output_type": "execute_result"
    }
   ],
   "source": [
    "# function that computes the maximum occuring exceeding of power flows on each line\n",
    "function max_violations(grid, caps, p_timeseries)\n",
    "    \n",
    "    max_vio = zeros(length(caps))\n",
    "    timesteps = size(p_timeseries.demand)[1]\n",
    "    \n",
    "    for t in 1:timesteps\n",
    "        \n",
    "        vio = count_violations(grid, caps, power_struct(p_timeseries.demand[t,:],p_timeseries.supply[t,:]))\n",
    "        for e in 1:length(caps)\n",
    "            \n",
    "            max_vio[e] = maximum([max_vio[e],vio[e]])\n",
    "        end\n",
    "    end\n",
    "        \n",
    "    return floor.(max_vio, digits=16)\n",
    "end"
   ]
  },
  {
   "cell_type": "code",
   "execution_count": 28,
   "metadata": {},
   "outputs": [
    {
     "data": {
      "text/plain": [
       "edge_weights_by_violation (generic function with 1 method)"
      ]
     },
     "execution_count": 28,
     "metadata": {},
     "output_type": "execute_result"
    }
   ],
   "source": [
    "# function that computes the edge weights based on line length and maximum power exceedings\n",
    "function edge_weights_by_violation(grid, caps, p_timeseries, nll)\n",
    "   \n",
    "    violations = max_violations(grid, caps, p_timeseries)\n",
    "    \n",
    "    weights = zero_corrector(violations, nll)\n",
    "    \n",
    "    for e in 1:length(weights)\n",
    "        edge = index2edge(grid,e)\n",
    "        i = src(edge)\n",
    "        j = dst(edge)\n",
    "        weights[e] *= euclidean(grid.vertexpos[i], grid.vertexpos[j])\n",
    "    end\n",
    "    \n",
    "    weights /= sum(weights)\n",
    "    return floor.(weights,digits=16)\n",
    "end"
   ]
  },
  {
   "cell_type": "code",
   "execution_count": 29,
   "metadata": {},
   "outputs": [
    {
     "data": {
      "text/plain": [
       "node_weights_by_violation (generic function with 1 method)"
      ]
     },
     "execution_count": 29,
     "metadata": {},
     "output_type": "execute_result"
    }
   ],
   "source": [
    "# function that computes node weights based on the sum of exceeding-based edge weights of its incident edges\n",
    "function node_weights_by_violation(grid, caps, p_timeseries)\n",
    "    \n",
    "    max_vio = max_violations(grid, caps, p_timeseries)    \n",
    "    NV = nv(grid)\n",
    "    weights = zeros(NV)\n",
    "    \n",
    "    for i in 1:length(caps)\n",
    "        e = index2edge(grid,i)\n",
    "        s,d = src(e), dst(e)\n",
    "        weights[s] += max_vio[i]\n",
    "        weights[d] += max_vio[i]\n",
    "    end\n",
    "    \n",
    "    weights = zero_corrector(weights,[])\n",
    "    \n",
    "    weights /= sum(weights)\n",
    "    return floor.(weights,digits=16)\n",
    "end"
   ]
  },
  {
   "cell_type": "markdown",
   "metadata": {},
   "source": [
    "### Line adaptation functions (for adding new lines, not included in final article)"
   ]
  },
  {
   "cell_type": "code",
   "execution_count": 30,
   "metadata": {},
   "outputs": [
    {
     "data": {
      "text/plain": [
       "max_redundancy_pair (generic function with 1 method)"
      ]
     },
     "execution_count": 30,
     "metadata": {},
     "output_type": "execute_result"
    }
   ],
   "source": [
    "# function that finds the pair of non-neighboring nodes with the largest redundancy effect if connected by a new edge\n",
    "function max_redundancy_pair(graph, r)\n",
    "    \n",
    "    path_length = zeros(nv(graph), nv(graph))\n",
    "    air_dist = zeros(nv(graph), nv(graph))\n",
    "    \n",
    "    for i in 1:nv(graph)\n",
    "        path_length[i,:] = dijkstra_shortest_paths(graph,i).dists\n",
    "        air_dist[i,:] = map(j -> euclidean(graph.vertexpos[i], graph.vertexpos[j]), 1:nv(graph))\n",
    "    end\n",
    "    \n",
    "    rho = ((path_length .+ air_dist) .^ r) ./ air_dist\n",
    "    for i in 1:nv(graph)\n",
    "        rho[i,i] = 0\n",
    "    end\n",
    "    \n",
    "    arg = argmax(rho)\n",
    "    while has_edge(graph,arg[1],arg[2]) == true\n",
    "        rho[arg[1],arg[2]] = 0\n",
    "        rho[arg[2],arg[1]] = 0\n",
    "        arg = argmax(rho)\n",
    "    end\n",
    "    \n",
    "    return sort([arg[1],arg[2]])\n",
    "end"
   ]
  },
  {
   "cell_type": "code",
   "execution_count": 31,
   "metadata": {},
   "outputs": [],
   "source": [
    "# struct for returning an altered version of a grid\n",
    "struct newline_struct\n",
    "    grid\n",
    "    caps\n",
    "end"
   ]
  },
  {
   "cell_type": "code",
   "execution_count": 32,
   "metadata": {},
   "outputs": [
    {
     "data": {
      "text/plain": [
       "add_line (generic function with 1 method)"
      ]
     },
     "execution_count": 32,
     "metadata": {},
     "output_type": "execute_result"
    }
   ],
   "source": [
    "# function that adds a single line to an existing grid in the most redundant location\n",
    "function add_line(graph, caps, r)\n",
    "    \n",
    "    pair = max_redundancy_pair(graph,r)\n",
    "    new_grid = embedded_graphcopy(graph)\n",
    "    add_edge!(new_grid, pair[1], pair[2])\n",
    "    \n",
    "    \n",
    "    index = edge2index(new_grid, pair[1], pair[2])\n",
    "    new_caps = zeros(length(caps)+1)\n",
    "    for i in 1:length(caps)\n",
    "        if i < index\n",
    "            new_caps[i] = caps[i]\n",
    "        else\n",
    "            new_caps[i+1] = caps[i]\n",
    "        end\n",
    "    end\n",
    "    \n",
    "    return newline_struct(new_grid, new_caps)\n",
    "end"
   ]
  },
  {
   "cell_type": "markdown",
   "metadata": {},
   "source": [
    "### Battery adaptation functions"
   ]
  },
  {
   "cell_type": "code",
   "execution_count": 33,
   "metadata": {},
   "outputs": [],
   "source": [
    "# struct to keep track of battery states\n",
    "struct battery_struct\n",
    "    demand\n",
    "    supply\n",
    "    battery_content #at end of time step\n",
    "    battery_use\n",
    "    battery_emergency_use\n",
    "    injection\n",
    "    waste\n",
    "end"
   ]
  },
  {
   "cell_type": "code",
   "execution_count": 34,
   "metadata": {},
   "outputs": [
    {
     "data": {
      "text/plain": [
       "batterize (generic function with 1 method)"
      ]
     },
     "execution_count": 34,
     "metadata": {},
     "output_type": "execute_result"
    }
   ],
   "source": [
    "# function that calculates the power injections of a grid with batteries\n",
    "# based on current demand and supply, previous battery charging levels, and the battery reliance parameter\n",
    "# \"emergency_mode\" is a deprecated argument\n",
    "function batterize(grid, capacities, demand_supply, battery_map, content_old, reliance, slack_index, emergency_mode)\n",
    "    \n",
    "    tolerance = 0 #10^-16 #?\n",
    "    \n",
    "    g = graphcopy(grid.graph)\n",
    "    caps = copy(capacities)\n",
    "    \n",
    "    demand = copy(demand_supply.demand)\n",
    "    supply = copy(demand_supply.supply)\n",
    "    demand[slack_index] = 0\n",
    "    supply[slack_index] = 0\n",
    "    \n",
    "    NV = length(demand)\n",
    "    \n",
    "    battery_content = zeros(NV) #at end of time step\n",
    "    battery_use = zeros(NV)\n",
    "    battery_emergency_use = zeros(NV)\n",
    "    injection = zeros(NV)\n",
    "    waste = zeros(NV)\n",
    "     \n",
    "    for node in 1:NV\n",
    "        if battery_map[node] > 0+tolerance\n",
    "            if supply[node]-demand[node] > 0+tolerance\n",
    "                charge_capacity = (battery_map[node]-content_old[node])\n",
    "                battery_use[node] = minimum([charge_capacity, reliance*abs(supply[node]-demand[node])])\n",
    "            elseif supply[node]-demand[node] < 0-tolerance\n",
    "                charge_capacity = content_old[node]\n",
    "                battery_use[node] = - minimum([charge_capacity, reliance*abs(supply[node]-demand[node])])\n",
    "            end\n",
    "        end\n",
    "    end\n",
    "    \n",
    "    injection = supply - demand - battery_use\n",
    "    injection[slack_index] = -sum(injection)\n",
    "    \n",
    "    diff = caps - abs.(flow(g, injection))\n",
    "    \n",
    "    while minimum(diff) < 0-tolerance\n",
    "        \n",
    "        indices = findall(x -> x<0-tolerance, diff)\n",
    "        sort!(indices,rev=true)\n",
    "        for i in indices\n",
    "            e = index2edge(g,i)\n",
    "            rem_edge!(g, e)\n",
    "            deleteat!(caps,i)\n",
    "        end\n",
    "        \n",
    "        cc = connected_components(g)            \n",
    "            \n",
    "        injection[slack_index] = 0\n",
    "        for c in cc\n",
    "            subgraph_balance = 0\n",
    "            for node in c\n",
    "                subgraph_balance += injection[node]\n",
    "            end\n",
    "            subgraph_balance = round(subgraph_balance, digits=14)\n",
    "            \n",
    "            if slack_index in c\n",
    "                injection[slack_index] = -subgraph_balance\n",
    "                \n",
    "            else\n",
    "                if subgraph_balance > 0+tolerance\n",
    "                    \n",
    "                    subgraph_battery_vacancy = 0\n",
    "                                        \n",
    "                    if emergency_mode == true\n",
    "                        for node in c\n",
    "                        subgraph_battery_vacancy += (battery_map[node] - content_old[node] \n",
    "                                                     - battery_use[node] - battery_emergency_use[node] )\n",
    "                        end\n",
    "                        subgraph_battery_vacancy = round(subgraph_battery_vacancy, digits=14)\n",
    "                        \n",
    "                        for node in c\n",
    "                            if subgraph_battery_vacancy > 0\n",
    "                                charge = (battery_map[node] - content_old[node]\n",
    "                                          - battery_use[node] - battery_emergency_use[node] )*\n",
    "                                          minimum([1, subgraph_balance/subgraph_battery_vacancy])\n",
    "                            else\n",
    "                                charge = 0\n",
    "                            end\n",
    "                            battery_emergency_use[node] += charge\n",
    "                            injection[node] -= charge\n",
    "                        end\n",
    "                    end\n",
    "                    \n",
    "                    subgraph_infeed = 0\n",
    "                    for node in c\n",
    "                        if injection[node] > 0+tolerance\n",
    "                            subgraph_infeed += injection[node]\n",
    "                        end\n",
    "                    end\n",
    "                    subgraph_infeed = round(subgraph_infeed, digits=14)\n",
    "                    \n",
    "                    if subgraph_infeed > 0\n",
    "                        wasting_factor = minimum(\n",
    "                                         [1, maximum([0, (subgraph_balance-subgraph_battery_vacancy)/subgraph_infeed ]) ])\n",
    "                    else\n",
    "                        wasting_factor = 0\n",
    "                    end\n",
    "                    \n",
    "                    @assert wasting_factor <= 1+10^-14 \"wasting factor > 1: w=$(wasting_factor), J=$(subgraph_balance), V=$(subgraph_battery_vacancy), J+=$(subgraph_infeed)\"\n",
    "                    \n",
    "                    for node in c\n",
    "                        if injection[node] > 0+tolerance\n",
    "                            waste[node] += injection[node] * wasting_factor\n",
    "                            injection[node] -= injection[node] * wasting_factor\n",
    "                        end\n",
    "                    end\n",
    "                        \n",
    "                elseif subgraph_balance < 0-tolerance\n",
    "                    \n",
    "                    if emergency_mode == true\n",
    "                        \n",
    "                        subgraph_battery_content = 0\n",
    "                        for node in c\n",
    "                        subgraph_battery_content += (content_old[node] +\n",
    "                                                     battery_use[node] + battery_emergency_use[node] )\n",
    "                        end\n",
    "                        subgraph_battery_content = round(subgraph_battery_content, digits=14)\n",
    "                        \n",
    "                        if subgraph_battery_content >= abs(subgraph_balance)\n",
    "                        \n",
    "                            for node in c\n",
    "                                if subgraph_battery_content > 0\n",
    "                                    charge = (content_old[node] + battery_use[node] + battery_emergency_use[node] )*\n",
    "                                              minimum([1, (abs(subgraph_balance)/subgraph_battery_content) ])\n",
    "                                else\n",
    "                                    charge = 0\n",
    "                                end\n",
    "                                battery_emergency_use[node] -= charge\n",
    "                                injection[node] += charge\n",
    "                            end\n",
    "                        end\n",
    "                    else\n",
    "                        for node in c\n",
    "                            \n",
    "                            if emergency_mode == true\n",
    "                                \n",
    "                                if injection[node] > 0+tolerance\n",
    "                                    charge_capacity = (battery_map[node] - content_old[node] -\n",
    "                                                       battery_use[node] - battery_emergency_use[node])\n",
    "                                    charge = minimum([charge_capacity, injection[node]])\n",
    "                                    battery_emergency_use[node] += charge\n",
    "                                    injection[node] -= charge\n",
    "                                    \n",
    "                                elseif injection[node] < 0-tolerance\n",
    "                                    charge_capacity = content_old[node] +\n",
    "                                                      battery_use[node] + battery_emergency_use[node]\n",
    "                                    charge = minimum([charge_capacity, abs(injection[node])])\n",
    "                                    battery_emergency_use[node] -= charge\n",
    "                                    injection[node] += charge\n",
    "                                end\n",
    "                            end\n",
    "                            \n",
    "                            for node in c\n",
    "                                waste[node] += maximum([0, injection[node]])\n",
    "                                injection[node] = 0\n",
    "                            end\n",
    "                        end\n",
    "                    end\n",
    "                end\n",
    "            end\n",
    "        end\n",
    "        \n",
    "        if ne(g) == 0\n",
    "            break\n",
    "        else\n",
    "            diff = caps - abs.(flow(g,injection))\n",
    "        end\n",
    "    end\n",
    "    \n",
    "    battery_content = content_old + battery_use + battery_emergency_use\n",
    "    \n",
    "    for node in 1:NV\n",
    "        if (supply[node] > demand[node])\n",
    "            waste[node] = minimum([waste[node],supply[node]-demand[node]])\n",
    "        end\n",
    "    end\n",
    "    \n",
    "    power = battery_struct(demand, supply, battery_content, battery_use, battery_emergency_use,\n",
    "                           injection, waste)\n",
    "    \n",
    "    return power\n",
    "end"
   ]
  },
  {
   "cell_type": "code",
   "execution_count": 35,
   "metadata": {},
   "outputs": [
    {
     "data": {
      "text/plain": [
       "batterize_old_em (generic function with 1 method)"
      ]
     },
     "execution_count": 35,
     "metadata": {},
     "output_type": "execute_result"
    }
   ],
   "source": [
    "# deprecated function for calculating battery behavior in \"emergency_mode\"\n",
    "function batterize_old_em(grid, capacities, demand_supply, battery_map, content_old, reliance, slack_index, emergency_mode)\n",
    "    \n",
    "    tolerance = 0 #10^-16 #?\n",
    "    \n",
    "    sigma_solar = 1.9908019172377822\n",
    "    sigma_consumption = 0.6017518938044338\n",
    "    \n",
    "    g = graphcopy(grid.graph)\n",
    "    caps = copy(capacities)\n",
    "    \n",
    "    demand = copy(demand_supply.demand)\n",
    "    supply = copy(demand_supply.supply)\n",
    "    demand[slack_index] = 0\n",
    "    supply[slack_index] = 0\n",
    "    \n",
    "    NV = length(demand)\n",
    "    \n",
    "    battery_content = zeros(NV) #at end of time step\n",
    "    battery_use = zeros(NV)\n",
    "    battery_emergency_use = zeros(NV)\n",
    "    injection = zeros(NV)\n",
    "    waste = zeros(NV)\n",
    "     \n",
    "    for node in 1:NV\n",
    "        if battery_map[node] > 0+tolerance\n",
    "            if supply[node]-demand[node] > 0+tolerance\n",
    "                charge_capacity = (battery_map[node]-content_old[node])\n",
    "                battery_use[node] = minimum([charge_capacity, reliance*abs(supply[node]-demand[node])])\n",
    "            elseif supply[node]-demand[node] < 0-tolerance\n",
    "                charge_capacity = content_old[node]\n",
    "                battery_use[node] = - minimum([charge_capacity, reliance*abs(supply[node]-demand[node])])\n",
    "            end\n",
    "        end\n",
    "    end\n",
    "    \n",
    "    injection = supply - demand - battery_use\n",
    "    injection[slack_index] = -sum(injection)\n",
    "    \n",
    "    diff = caps - abs.(flow(g, injection))\n",
    "    \n",
    "    while minimum(diff) < 0-tolerance\n",
    "        \n",
    "        indices = findall(x -> x<0-tolerance, diff)\n",
    "        sort!(indices,rev=true)\n",
    "        for i in indices\n",
    "            e = index2edge(g,i)\n",
    "            rem_edge!(g, e)\n",
    "            deleteat!(caps,i)\n",
    "        end\n",
    "        \n",
    "        cc = connected_components(g)            \n",
    "            \n",
    "        injection[slack_index] = 0\n",
    "        for c in cc\n",
    "            subgraph_balance = 0\n",
    "            for node in c\n",
    "                subgraph_balance += injection[node]\n",
    "            end\n",
    "            subgraph_balance = round(subgraph_balance, digits=14)\n",
    "            \n",
    "            if slack_index in c\n",
    "                injection[slack_index] = -subgraph_balance\n",
    "                \n",
    "            else\n",
    "                if subgraph_balance > 0+tolerance\n",
    "                    \n",
    "                    subgraph_battery_vacancy = 0\n",
    "                                        \n",
    "                    if emergency_mode == true\n",
    "                        for node in c\n",
    "                        subgraph_battery_vacancy += (battery_map[node] - content_old[node] \n",
    "                                                     - battery_use[node] - battery_emergency_use[node] )\n",
    "                        end\n",
    "                        subgraph_battery_vacancy = round(subgraph_battery_vacancy, digits=14)\n",
    "                        \n",
    "                        for node in c\n",
    "                            if subgraph_battery_vacancy > 0\n",
    "                                charge = (battery_map[node] - content_old[node]\n",
    "                                          - battery_use[node] - battery_emergency_use[node] )*\n",
    "                                          minimum([1, subgraph_balance/subgraph_battery_vacancy])\n",
    "                            else\n",
    "                                charge = 0\n",
    "                            end\n",
    "                            battery_emergency_use[node] += charge\n",
    "                            injection[node] -= charge\n",
    "                        end\n",
    "                    end\n",
    "                    \n",
    "                    subgraph_infeed = 0\n",
    "                    for node in c\n",
    "                        if injection[node] > 0+tolerance\n",
    "                            subgraph_infeed += injection[node]\n",
    "                        end\n",
    "                    end\n",
    "                    subgraph_infeed = round(subgraph_infeed, digits=14)\n",
    "                    \n",
    "                    if subgraph_infeed > 0\n",
    "                        wasting_factor = minimum(\n",
    "                                         [1, maximum([0, (subgraph_balance-subgraph_battery_vacancy)/subgraph_infeed ]) ])\n",
    "                    else\n",
    "                        wasting_factor = 0\n",
    "                    end\n",
    "                    \n",
    "                    @assert wasting_factor <= 1+10^-14 \"wasting factor > 1: w=$(wasting_factor), J=$(subgraph_balance), V=$(subgraph_battery_vacancy), J+=$(subgraph_infeed)\"\n",
    "                    \n",
    "                    for node in c\n",
    "                        if injection[node] > 0+tolerance\n",
    "                            waste[node] += injection[node] * wasting_factor\n",
    "                            injection[node] -= injection[node] * wasting_factor\n",
    "                        end\n",
    "                    end\n",
    "                        \n",
    "                elseif subgraph_balance < 0-tolerance\n",
    "                    \n",
    "                    if emergency_mode == true\n",
    "                        \n",
    "                        subgraph_battery_content = 0\n",
    "                        for node in c\n",
    "                        subgraph_battery_content += (content_old[node] +\n",
    "                                                     battery_use[node] + battery_emergency_use[node] )\n",
    "                        end\n",
    "                        subgraph_battery_content = round(subgraph_battery_content, digits=14)\n",
    "                        \n",
    "                        if subgraph_battery_content >= abs(subgraph_balance)\n",
    "                        \n",
    "                            for node in c\n",
    "                                if subgraph_battery_content > 0\n",
    "                                    charge = (content_old[node] + battery_use[node] + battery_emergency_use[node] )*\n",
    "                                              minimum([1, (abs(subgraph_balance)/subgraph_battery_content) ])\n",
    "                                else\n",
    "                                    charge = 0\n",
    "                                end\n",
    "                                battery_emergency_use[node] -= charge\n",
    "                                injection[node] += charge\n",
    "                            end\n",
    "                        end\n",
    "                    else\n",
    "                        for node in c\n",
    "                            \n",
    "                            if emergency_mode == true\n",
    "                                \n",
    "                                if injection[node] > 0+tolerance\n",
    "                                    charge_capacity = (battery_map[node] - content_old[node] -\n",
    "                                                       battery_use[node] - battery_emergency_use[node])\n",
    "                                    charge = minimum([charge_capacity, injection[node]])\n",
    "                                    battery_emergency_use[node] += charge\n",
    "                                    injection[node] -= charge\n",
    "                                    \n",
    "                                elseif injection[node] < 0-tolerance\n",
    "                                    charge_capacity = content_old[node] +\n",
    "                                                      battery_use[node] + battery_emergency_use[node]\n",
    "                                    charge = minimum([charge_capacity, abs(injection[node])])\n",
    "                                    battery_emergency_use[node] -= charge\n",
    "                                    injection[node] += charge\n",
    "                                end\n",
    "                            end\n",
    "                            \n",
    "                            for node in c\n",
    "                                waste[node] += maximum([0, injection[node]])\n",
    "                                injection[node] = 0\n",
    "                            end\n",
    "                        end\n",
    "                    end\n",
    "                end\n",
    "            end\n",
    "        end\n",
    "        \n",
    "        if ne(g) == 0\n",
    "            break\n",
    "        else\n",
    "            diff = caps - abs.(flow(g,injection))\n",
    "        end\n",
    "    end\n",
    "    \n",
    "    battery_content = content_old + battery_use + battery_emergency_use\n",
    "    \n",
    "    for node in 1:NV\n",
    "        if (supply[node] > demand[node])\n",
    "            waste[node] = minimum([waste[node],supply[node]-demand[node]])\n",
    "        end\n",
    "    end\n",
    "    \n",
    "    power = battery_struct(demand, supply, battery_content, battery_use, battery_emergency_use,\n",
    "                           injection, waste)\n",
    "    \n",
    "    return power\n",
    "end"
   ]
  },
  {
   "cell_type": "code",
   "execution_count": 36,
   "metadata": {},
   "outputs": [
    {
     "data": {
      "text/plain": [
       "batterize_series (generic function with 1 method)"
      ]
     },
     "execution_count": 36,
     "metadata": {},
     "output_type": "execute_result"
    }
   ],
   "source": [
    "# function to compute the power injection and battery level time series\n",
    "# from a time series of supply and demand, intitial battery charge, and the reliance parameter\n",
    "function batterize_series(grid, caps, demand_supply_series, battery_map, initial_content,\n",
    "                          reliance, slack_index, emergency_mode)\n",
    "       \n",
    "    timesteps, NV = size(demand_supply_series.demand)\n",
    "    \n",
    "    demand = demand_supply_series.demand\n",
    "    supply = demand_supply_series.supply\n",
    "    battery_content = zeros(timesteps, NV)\n",
    "    battery_use = zeros(timesteps, NV)\n",
    "    battery_emergency_use = zeros(timesteps, NV)\n",
    "    injection = zeros(timesteps, NV)\n",
    "    waste = zeros(timesteps, NV)\n",
    "    \n",
    "    content_0 = battery_map .* initial_content\n",
    "\n",
    "    batt_0 = batterize(grid, caps, power_struct(demand[1,:],supply[1,:]), battery_map, content_0,\n",
    "                       reliance, slack_index, emergency_mode)\n",
    "    battery_content[1,:] = batt_0.battery_content\n",
    "    battery_use[1,:] = batt_0.battery_use\n",
    "    battery_emergency_use[1,:] = batt_0.battery_emergency_use\n",
    "    injection[1,:] = batt_0.injection\n",
    "    waste[1,:] = batt_0.waste\n",
    "\n",
    "    for t in 2:timesteps\n",
    "        batt = batterize(grid, caps, power_struct(demand[t,:],supply[t,:]), battery_map, battery_content[t-1,:],\n",
    "                         reliance, slack_index, emergency_mode)\n",
    "        battery_content[t,:] = batt.battery_content\n",
    "        battery_use[t,:] = batt.battery_use\n",
    "        battery_emergency_use[t,:] = batt.battery_emergency_use\n",
    "        injection[t,:] = batt.injection\n",
    "        waste[t,:] = batt.waste\n",
    "    end\n",
    "    \n",
    "    return battery_struct(demand, supply, battery_content, battery_use, battery_emergency_use,\n",
    "                          injection, waste)   \n",
    "end"
   ]
  },
  {
   "cell_type": "code",
   "execution_count": 37,
   "metadata": {},
   "outputs": [],
   "source": [
    "# deprecated version of the above battery struct\n",
    "struct battery_struct_old\n",
    "    charge #resulting charge at end of timestep\n",
    "    demand\n",
    "    supply #supply visible to the grid\n",
    "end"
   ]
  },
  {
   "cell_type": "code",
   "execution_count": 38,
   "metadata": {},
   "outputs": [
    {
     "data": {
      "text/plain": [
       "batterize_old (generic function with 1 method)"
      ]
     },
     "execution_count": 38,
     "metadata": {},
     "output_type": "execute_result"
    }
   ],
   "source": [
    "# deprecated version of the above battery function\n",
    "function batterize_old(battery_map, charge, reliance, power, slack_index)\n",
    "    \n",
    "    NV = length(charge)\n",
    "    new_charge, visible_supply = zeros(NV), zeros(NV)\n",
    "    \n",
    "    for i in 1:NV\n",
    "        \n",
    "        if battery_map[i] > 0\n",
    "\n",
    "            if power.supply[i]-power.demand[i] > 0\n",
    "                charge_budget = reliance*(battery_map[i]-charge[i])\n",
    "                diff = minimum([charge_budget, abs(power.supply[i]-power.demand[i])])\n",
    "                visible_supply[i] = power.supply[i] - diff\n",
    "                new_charge[i] = charge[i] + diff\n",
    "            elseif power.supply[i]-power.demand[i] < 0\n",
    "                charge_budget = reliance*charge[i]\n",
    "                diff = minimum([charge_budget, abs(power.supply[i]-power.demand[i]) ])\n",
    "                visible_supply[i] = power.supply[i] + diff\n",
    "                new_charge[i] = charge[i] - diff\n",
    "            elseif power.supply[i]-power.demand[i] == 0\n",
    "                visible_supply[i] = power.supply[i]\n",
    "                new_charge[i] = charge[i]\n",
    "            end\n",
    "            \n",
    "        else \n",
    "            if i != slack_index\n",
    "                visible_supply[i] = power.supply[i]\n",
    "            end\n",
    "        end\n",
    "    end\n",
    "\n",
    "    visible_supply[slack_index] = -sum(visible_supply)\n",
    "    \n",
    "    return battery_struct(new_charge, power.demand, visible_supply)\n",
    "end"
   ]
  },
  {
   "cell_type": "code",
   "execution_count": 39,
   "metadata": {},
   "outputs": [
    {
     "data": {
      "text/plain": [
       "batterize_series_old (generic function with 1 method)"
      ]
     },
     "execution_count": 39,
     "metadata": {},
     "output_type": "execute_result"
    }
   ],
   "source": [
    "# deprecated version of the above battery function\n",
    "function batterize_series_old(battery_map, initial_content, reliance, power_series, slack_index)\n",
    "    \n",
    "    p = power_struct(copy(power_series.demand),copy(power_series.supply))\n",
    "    timesteps, NV = size(p.demand)\n",
    "    \n",
    "    charge = zeros(timesteps, NV)\n",
    "    charge_0 = battery_map .* initial_content\n",
    "\n",
    "    batt_0 = batterize(battery_map, charge_0, reliance, power_struct(p.demand[1,:],p.supply[1,:]), slack_index)\n",
    "    charge[1,:] = batt_0.charge\n",
    "    p.supply[1,:] = batt_0.supply\n",
    "\n",
    "    for t in 2:timesteps\n",
    "        batt = batterize(battery_map, charge[t-1,:], reliance, power_struct(p.demand[t,:],p.supply[t,:]), slack_index)\n",
    "        charge[t,:] = batt.charge\n",
    "        p.supply[t,:] = batt.supply\n",
    "    end\n",
    "\n",
    "    return battery_struct(charge, p.demand, p.supply)    \n",
    "end"
   ]
  },
  {
   "cell_type": "markdown",
   "metadata": {},
   "source": [
    "### Sustainant functions"
   ]
  },
  {
   "cell_type": "code",
   "execution_count": 40,
   "metadata": {},
   "outputs": [],
   "source": [
    "# struct that contains two different sustainant values\n",
    "# (only one of the two was used in the final article)\n",
    "struct sustainant_struct\n",
    "    delta\n",
    "    tau\n",
    "end"
   ]
  },
  {
   "cell_type": "code",
   "execution_count": 41,
   "metadata": {},
   "outputs": [
    {
     "data": {
      "text/plain": [
       "sustainants (generic function with 1 method)"
      ]
     },
     "execution_count": 41,
     "metadata": {},
     "output_type": "execute_result"
    }
   ],
   "source": [
    "# function that computes two different sustainant values at a single point in time based on the current power injections\n",
    "# (only the one called tau was used in the final article)\n",
    "function sustainants(power, slack_index)\n",
    "    \n",
    "    tolerance = 10^-14 #0\n",
    "    \n",
    "    power.demand[slack_index] = 0\n",
    "    power.supply[slack_index] = 0\n",
    "    power.battery_content[slack_index] = 0\n",
    "    power.battery_use[slack_index] = 0\n",
    "    power.battery_emergency_use[slack_index] = 0\n",
    "    power.injection[slack_index] = 0\n",
    "    power.waste[slack_index] = 0\n",
    "    \n",
    "    lack = -power.supply +power.demand +power.battery_use +power.battery_emergency_use +power.injection +power.waste\n",
    "    \n",
    "    served_demand = power.demand - lack #power.demand + mismatch.*Int.(mismatch.<0)\n",
    "    \n",
    "    if sum(power.demand) != 0\n",
    "        delta = sum(served_demand)/sum(power.demand)\n",
    "    else\n",
    "        delta = 1\n",
    "    end\n",
    "    \n",
    "    if -tolerance <= delta <0\n",
    "        delta = 0\n",
    "    elseif 1 < delta <= 1+tolerance\n",
    "        delta = 1\n",
    "    end\n",
    "    \n",
    "    @assert delta >= 0 \"negative delta: $(delta)\"\n",
    "    @assert delta <= 1 \"delta above 1: $(delta)\"\n",
    "    \n",
    "    damage = lack + power.waste\n",
    "    \n",
    "    #aka served transmission, served injection?\n",
    "    served_mismatch = abs.(power.supply-power.demand) - abs.(damage) # damage ohne abs?\n",
    "    \n",
    "    if sum(abs.(power.supply-power.demand)) != 0\n",
    "        tau = sum(served_mismatch)/sum(abs.(power.supply-power.demand))\n",
    "    else\n",
    "        tau = 1\n",
    "    end\n",
    "    \n",
    "    if -tolerance <= tau <0\n",
    "        tau = 0\n",
    "    elseif 1 < tau <= 1+tolerance\n",
    "        tau = 1\n",
    "    end\n",
    "    \n",
    "    @assert tau >= 0 \"negative tau: $(tau)\"\n",
    "    @assert tau <= 1 \"tau above 1: $(tau)\"\n",
    "    \n",
    "    return sustainant_struct(delta, tau)\n",
    "end"
   ]
  },
  {
   "cell_type": "code",
   "execution_count": 42,
   "metadata": {},
   "outputs": [
    {
     "data": {
      "text/plain": [
       "sustainants_series (generic function with 1 method)"
      ]
     },
     "execution_count": 42,
     "metadata": {},
     "output_type": "execute_result"
    }
   ],
   "source": [
    "# function that computes the sustainant time series from the power injection time series\n",
    "function sustainants_series(power_series, slack_index)\n",
    "    \n",
    "    delta, tau = [], []\n",
    "    \n",
    "    for i in 1:size(power_series.demand)[1]\n",
    "        \n",
    "        d = power_series.demand[i,:]\n",
    "        s = power_series.supply[i,:]\n",
    "        bc = power_series.battery_content[i,:]\n",
    "        bu = power_series.battery_use[i,:]\n",
    "        beu = power_series.battery_emergency_use[i,:]\n",
    "        j = power_series.injection[i,:]\n",
    "        w = power_series.waste[i,:]\n",
    "        p = battery_struct(d,s,bc,bu,beu,j,w)\n",
    "\n",
    "        sus = sustainants(p, slack_index)\n",
    "        append!(delta,sus.delta)\n",
    "        append!(tau,sus.tau)\n",
    "    end\n",
    "    \n",
    "    return sustainant_struct(delta,tau)\n",
    "end"
   ]
  },
  {
   "cell_type": "code",
   "execution_count": 43,
   "metadata": {},
   "outputs": [
    {
     "data": {
      "text/plain": [
       "sustainant_old (generic function with 1 method)"
      ]
     },
     "execution_count": 43,
     "metadata": {},
     "output_type": "execute_result"
    }
   ],
   "source": [
    "# deprecated version of the above sustainant function\n",
    "function sustainant_old(grid, capacities, power, slack_index)\n",
    "    \n",
    "    tolerance = 0 #10^-16\n",
    "    \n",
    "    g = graphcopy(grid.graph)\n",
    "    caps = copy(capacities)\n",
    "    \n",
    "    d = copy(power.demand)\n",
    "    d[slack_index] = 0\n",
    "\n",
    "    b = copy(power.supply-power.demand)\n",
    "    b[slack_index] = 0\n",
    "\n",
    "    total_demand = sum(d)\n",
    "    total_balance = sum(abs.(b))\n",
    "\n",
    "    d_realized = copy(power.demand)\n",
    "    b_realized = copy(power.supply-power.demand)\n",
    "\n",
    "    diff = caps - abs.(flow(g,b_realized))\n",
    "    \n",
    "    while minimum(diff) < 0-tolerance\n",
    "        \n",
    "        indices = findall(x-> x<0-tolerance, diff)\n",
    "        sort!(indices,rev=true)\n",
    "        for i in indices\n",
    "            e = index2edge(g,i)\n",
    "            rem_edge!(g, e)\n",
    "            deleteat!(caps,i)\n",
    "        end\n",
    "        \n",
    "        cc = connected_components(g)\n",
    "        \n",
    "        b_realized[slack_index] = 0\n",
    "        for c in cc\n",
    "            subgraph_balance = 0\n",
    "            for i in c\n",
    "                subgraph_balance += b_realized[i] \n",
    "            end\n",
    "            \n",
    "            if slack_index in c\n",
    "                b_realized[slack_index] = -subgraph_balance\n",
    "            \n",
    "            else\n",
    "                if subgraph_balance < 0-tolerance\n",
    "                    for i in c\n",
    "                        b_realized[i] = 0\n",
    "                        d_realized[i] = 0 #better: d_realized[i] = power.supply[i]\n",
    "                    end\n",
    "                    \n",
    "                elseif subgraph_balance > 0+tolerance\n",
    "                    subgraph_surplus = 0\n",
    "                    for i in c\n",
    "                        if b_realized[i] > 0+tolerance\n",
    "                            subgraph_surplus += b_realized[i]\n",
    "                        end\n",
    "                    end\n",
    "\n",
    "                    shrinking_factor = (subgraph_surplus-subgraph_balance)/subgraph_surplus\n",
    "\n",
    "                    for i in c\n",
    "                        if b_realized[i] > 0+tolerance\n",
    "                            b_realized[i] *= shrinking_factor\n",
    "                        end\n",
    "                    end\n",
    "                end\n",
    "            end\n",
    "        end\n",
    "        \n",
    "        if ne(g) == 0\n",
    "            break\n",
    "        else\n",
    "            diff = caps - abs.(flow(g,b_realized))\n",
    "        end\n",
    "    end\n",
    "    \n",
    "    @assert all(isfinite.(d))\n",
    "    @assert all(isfinite.(b))\n",
    "    @assert all(isfinite.(d_realized))\n",
    "    @assert all(isfinite.(b_realized))\n",
    "\n",
    "    d_realized[slack_index] = 0\n",
    "    b_realized[slack_index] = 0\n",
    "    total_demand_realized = sum(d_realized)\n",
    "    total_balance_realized = sum(abs.(b_realized))\n",
    "    \n",
    "    delta = 0.\n",
    "    tau = 0.\n",
    "\n",
    "    if total_demand == 0\n",
    "        delta = 1\n",
    "    else\n",
    "        delta = total_demand_realized / total_demand\n",
    "    end\n",
    "\n",
    "    if total_balance == 0\n",
    "        tau = 1\n",
    "    else\n",
    "        tau = total_balance_realized / total_balance\n",
    "    end    \n",
    "\n",
    "    return sustainant_struct(delta,tau)\n",
    "end"
   ]
  },
  {
   "cell_type": "code",
   "execution_count": 44,
   "metadata": {},
   "outputs": [
    {
     "data": {
      "text/plain": [
       "sustainant_series_old (generic function with 1 method)"
      ]
     },
     "execution_count": 44,
     "metadata": {},
     "output_type": "execute_result"
    }
   ],
   "source": [
    "# deprecated version of the above sustainant function\n",
    "function sustainant_series_old(grid, capacities, power_series, slack_index)\n",
    "    \n",
    "    delta, tau = [], []\n",
    "    \n",
    "    for i in 1:size(power_series.demand)[1]\n",
    "        \n",
    "        d = power_series.demand[i,:]\n",
    "        s = power_series.supply[i,:]\n",
    "        p = power_struct(d,s)\n",
    "\n",
    "        sus = sustainant(grid, capacities, p, slack_index)\n",
    "        append!(delta,sus.delta)\n",
    "        append!(tau,sus.tau)\n",
    "    end\n",
    "    \n",
    "    return sustainant_struct(delta,tau)\n",
    "end"
   ]
  },
  {
   "cell_type": "markdown",
   "metadata": {},
   "source": [
    "### Memory-saving sustainant functions"
   ]
  },
  {
   "cell_type": "code",
   "execution_count": 45,
   "metadata": {},
   "outputs": [
    {
     "data": {
      "text/plain": [
       "limit_finder (generic function with 1 method)"
      ]
     },
     "execution_count": 45,
     "metadata": {},
     "output_type": "execute_result"
    }
   ],
   "source": [
    "# struct to contain an upper and lower limit\n",
    "struct lower_upper_struct\n",
    "    lower\n",
    "    upper\n",
    "end\n",
    "\n",
    "# function that calculates the upper and lower limit of injections that are allowed by the battery charging algorithm\n",
    "# higher and lower injections will be partially absorbed by the battery\n",
    "function limit_finder(rp, np, reliance; solar_dict=solar_dict, consumer_dict=consumer_dict)\n",
    "    \n",
    "    j_pop = combo_hist(consumer_dict, solar_dict; ratio=rp).list\n",
    "    j_mean = rp-1\n",
    "    \n",
    "    goal_frac = minimum([1, reliance*99*10/rp/np]) #rp dependence is approximate and bad at low rp\n",
    "    \n",
    "    max_cum_ex = sum(filter(x -> x>0, j_pop.-j_mean))\n",
    "    \n",
    "    tolerance = 10^-5\n",
    "    \n",
    "    lim = j_mean\n",
    "    rim = j_pop[end]\n",
    "    upper_limit = j_pop[end]\n",
    "    old_frac = -Inf\n",
    "    frac = 0\n",
    "    while abs(frac-old_frac) > tolerance && abs(frac-goal_frac) > tolerance\n",
    "        \n",
    "        upper_limit = mean([lim, rim])\n",
    "        cum_ex = sum(filter(x -> x>0, j_pop.-upper_limit))\n",
    "        old_frac = copy(frac)\n",
    "        frac = cum_ex/max_cum_ex\n",
    "        \n",
    "        if frac < goal_frac\n",
    "            rim = copy(upper_limit)\n",
    "        elseif frac > goal_frac\n",
    "            lim = copy(upper_limit)\n",
    "        end\n",
    "    end\n",
    "    \n",
    "    uppercut_j_pop = replace(x -> x>upper_limit ? upper_limit : x, j_pop)\n",
    "    \n",
    "    lim = j_pop[1]\n",
    "    rim = j_mean   \n",
    "    lower_limit = -j_pop[1]\n",
    "    old_man = -1000\n",
    "    man = -j_pop[1]\n",
    "    while abs(man-old_man) > tolerance && abs(man-j_mean) > tolerance\n",
    "        \n",
    "        lower_limit = mean([lim, rim])\n",
    "        old_man = copy(man)\n",
    "        man = mean(replace(x -> x<lower_limit ? lower_limit : x, uppercut_j_pop))\n",
    "        \n",
    "        if man < j_mean\n",
    "            lim = copy(lower_limit)\n",
    "        elseif man > j_mean\n",
    "            rim = copy(lower_limit)\n",
    "        end\n",
    "    end\n",
    "    \n",
    "    println(\"rp: \", rp)\n",
    "    println(\"np: \", np)\n",
    "    println(\"reliance: \", reliance)\n",
    "    println(\"j_mean: \", j_mean)\n",
    "    println(\"goal_frac: \", goal_frac) \n",
    "    println(\"upper_limit: \", upper_limit)\n",
    "    println(\"lower_limit: \", lower_limit)\n",
    "    println()\n",
    "    \n",
    "    return lower_upper_struct(lower_limit, upper_limit)\n",
    "end"
   ]
  },
  {
   "cell_type": "code",
   "execution_count": 46,
   "metadata": {},
   "outputs": [],
   "source": [
    "# struct to contain two sunstainant values and the battery content distribution\n",
    "struct triple_struct\n",
    "    delta\n",
    "    tau\n",
    "    battery_content\n",
    "end"
   ]
  },
  {
   "cell_type": "code",
   "execution_count": 47,
   "metadata": {},
   "outputs": [
    {
     "data": {
      "text/plain": [
       "batt_sus (generic function with 1 method)"
      ]
     },
     "execution_count": 47,
     "metadata": {},
     "output_type": "execute_result"
    }
   ],
   "source": [
    "# function that saves memory by performing the battery algorithm and the sustainant calculation at the same time\n",
    "# this avoids sending large arrays of injections and battery content between functions\n",
    "function batt_sus(grid, capacities, demand, supply, battery_map, content_old, reliance, slack_index,\n",
    "                  emergency_mode, limits)\n",
    "    \n",
    "    tolerance = 0 #10^-16 #?\n",
    "    \n",
    "    g = graphcopy(grid.graph)\n",
    "    caps = copy(capacities)\n",
    "    \n",
    "    demand[slack_index] = 0\n",
    "    supply[slack_index] = 0\n",
    "    \n",
    "    NV = length(demand)\n",
    "    \n",
    "    battery_content = zeros(NV) #at end of time step\n",
    "    battery_use = zeros(NV)\n",
    "    battery_emergency_use = zeros(NV)\n",
    "    injection = zeros(NV)\n",
    "    waste = zeros(NV)\n",
    "     \n",
    "    for node in 1:NV\n",
    "        if battery_map[node] > 0+tolerance\n",
    "            if supply[node]-demand[node] > limits.upper\n",
    "                charge_capacity = (battery_map[node]-content_old[node])\n",
    "                charge_goal = supply[node]-demand[node] - limits.upper\n",
    "                battery_use[node] = minimum([charge_capacity, charge_goal])\n",
    "                \n",
    "            elseif supply[node]-demand[node] < limits.lower\n",
    "                charge_capacity = content_old[node]\n",
    "                charge_goal = limits.lower - (supply[node]-demand[node])\n",
    "                battery_use[node] = -minimum([charge_capacity, charge_goal])\n",
    "            end\n",
    "        end\n",
    "    end\n",
    "    \n",
    "    injection_0 = supply - demand - battery_use\n",
    "    injection = supply - demand - battery_use\n",
    "    injection[slack_index] = -sum(injection)\n",
    "    \n",
    "    diff = caps - abs.(flow(g, injection))\n",
    "    \n",
    "    while minimum(diff) < 0-tolerance\n",
    "        \n",
    "        indices = findall(x -> x<0-tolerance, diff)\n",
    "        sort!(indices,rev=true)\n",
    "        for i in indices\n",
    "            e = index2edge(g,i)\n",
    "            rem_edge!(g, e)\n",
    "            deleteat!(caps,i)\n",
    "        end\n",
    "        \n",
    "        cc = connected_components(g)            \n",
    "            \n",
    "        injection[slack_index] = 0\n",
    "        for c in cc\n",
    "            subgraph_balance = 0\n",
    "            for node in c\n",
    "                subgraph_balance += injection[node]\n",
    "            end\n",
    "            subgraph_balance = round(subgraph_balance, digits=14)\n",
    "            \n",
    "            if slack_index in c\n",
    "                injection[slack_index] = -subgraph_balance\n",
    "                \n",
    "            else\n",
    "                if subgraph_balance > 0+tolerance\n",
    "                    \n",
    "                    subgraph_battery_vacancy = 0\n",
    "                                        \n",
    "                    if emergency_mode == true\n",
    "                        for node in c\n",
    "                        subgraph_battery_vacancy += (battery_map[node] - content_old[node] \n",
    "                                                     - battery_use[node] - battery_emergency_use[node] )\n",
    "                        end\n",
    "                        subgraph_battery_vacancy = round(subgraph_battery_vacancy, digits=14)\n",
    "                        \n",
    "                        for node in c\n",
    "                            if subgraph_battery_vacancy > 0\n",
    "                                charge = (battery_map[node] - content_old[node]\n",
    "                                          - battery_use[node] - battery_emergency_use[node] )*\n",
    "                                          minimum([1, subgraph_balance/subgraph_battery_vacancy])\n",
    "                            else\n",
    "                                charge = 0\n",
    "                            end\n",
    "                            battery_emergency_use[node] += charge\n",
    "                            injection[node] -= charge\n",
    "                        end\n",
    "                    end\n",
    "                    \n",
    "                    subgraph_infeed = 0\n",
    "                    for node in c\n",
    "                        if injection[node] > 0+tolerance\n",
    "                            subgraph_infeed += injection[node]\n",
    "                        end\n",
    "                    end\n",
    "                    subgraph_infeed = round(subgraph_infeed, digits=14)\n",
    "                    \n",
    "                    if subgraph_infeed > 0\n",
    "                        wasting_factor = minimum(\n",
    "                                         [1, maximum([0, (subgraph_balance-subgraph_battery_vacancy)/subgraph_infeed ]) ])\n",
    "                    else\n",
    "                        wasting_factor = 0\n",
    "                    end\n",
    "                    \n",
    "                    @assert wasting_factor <= 1+10^-14 \"wasting factor > 1: w=$(wasting_factor), \"*\n",
    "                            \"J=$(subgraph_balance), V=$(subgraph_battery_vacancy), J+=$(subgraph_infeed)\"\n",
    "                    \n",
    "                    for node in c\n",
    "                        if injection[node] > 0+tolerance\n",
    "                            waste[node] += injection[node] * wasting_factor\n",
    "                            injection[node] -= injection[node] * wasting_factor\n",
    "                        end\n",
    "                    end\n",
    "                        \n",
    "                elseif subgraph_balance < 0-tolerance\n",
    "                    \n",
    "                    if emergency_mode == true\n",
    "                        \n",
    "                        subgraph_battery_content = 0\n",
    "                        for node in c\n",
    "                        subgraph_battery_content += (content_old[node] +\n",
    "                                                     battery_use[node] + battery_emergency_use[node] )\n",
    "                        end\n",
    "                        subgraph_battery_content = round(subgraph_battery_content, digits=14)\n",
    "                        \n",
    "                        if subgraph_battery_content >= abs(subgraph_balance)\n",
    "                        \n",
    "                            for node in c\n",
    "                                if subgraph_battery_content > 0\n",
    "                                    charge = (content_old[node] + battery_use[node] + battery_emergency_use[node] )*\n",
    "                                              minimum([1, (abs(subgraph_balance)/subgraph_battery_content) ])\n",
    "                                else\n",
    "                                    charge = 0\n",
    "                                end\n",
    "                                battery_emergency_use[node] -= charge\n",
    "                                injection[node] += charge\n",
    "                            end\n",
    "                        end\n",
    "                    else\n",
    "                        for node in c\n",
    "                            \n",
    "                            if emergency_mode == true\n",
    "                                \n",
    "                                if injection[node] > 0+tolerance\n",
    "                                    charge_capacity = (battery_map[node] - content_old[node] -\n",
    "                                                       battery_use[node] - battery_emergency_use[node])\n",
    "                                    charge = minimum([charge_capacity, injection[node]])\n",
    "                                    battery_emergency_use[node] += charge\n",
    "                                    injection[node] -= charge\n",
    "                                    \n",
    "                                elseif injection[node] < 0-tolerance\n",
    "                                    charge_capacity = content_old[node] +\n",
    "                                                      battery_use[node] + battery_emergency_use[node]\n",
    "                                    charge = minimum([charge_capacity, abs(injection[node])])\n",
    "                                    battery_emergency_use[node] -= charge\n",
    "                                    injection[node] += charge\n",
    "                                end\n",
    "                            end\n",
    "                            \n",
    "                            for node in c\n",
    "                                waste[node] += maximum([0, injection[node]])\n",
    "                                injection[node] = 0\n",
    "                            end\n",
    "                        end\n",
    "                    end\n",
    "                end\n",
    "            end\n",
    "        end\n",
    "        \n",
    "        if ne(g) == 0\n",
    "            break\n",
    "        else\n",
    "            diff = caps - abs.(flow(g,injection))\n",
    "        end\n",
    "    end\n",
    "    \n",
    "    battery_content = content_old + battery_use + battery_emergency_use\n",
    "    \n",
    "    demand[slack_index] = 0\n",
    "    supply[slack_index] = 0\n",
    "    battery_content[slack_index] = 0\n",
    "    battery_use[slack_index] = 0\n",
    "    battery_emergency_use[slack_index] = 0\n",
    "    injection[slack_index] = 0\n",
    "    waste[slack_index] = 0\n",
    "    \n",
    "    for node in 1:NV\n",
    "        if (supply[node] > demand[node])\n",
    "            waste[node] = minimum([waste[node],supply[node]-demand[node]])\n",
    "        end\n",
    "    end\n",
    "    \n",
    "    power = battery_struct(demand, supply, battery_content, battery_use, battery_emergency_use,\n",
    "                           injection, waste)\n",
    "    \n",
    "    tolerance = 10^-14 #0\n",
    "    \n",
    "    lack = -power.supply +power.demand +power.battery_use +power.battery_emergency_use +power.injection +power.waste\n",
    "    \n",
    "    served_demand = power.demand - lack #power.demand + mismatch.*Int.(mismatch.<0)\n",
    "    \n",
    "    if sum(power.demand) != 0\n",
    "        delta = 0 #sum(served_demand)/sum(power.demand)\n",
    "    else\n",
    "        delta = 1\n",
    "    end\n",
    "    \n",
    "    if -tolerance <= delta <0\n",
    "        delta = 0\n",
    "    elseif 1 < delta <= 1+tolerance\n",
    "        delta = 1\n",
    "    end\n",
    "    \n",
    "    @assert delta >= 0 \"negative delta: $(delta)\"\n",
    "    @assert delta <= 1 \"delta above 1: $(delta)\"\n",
    "    \n",
    "    damage = abs.(lack) + abs.(power.waste)\n",
    "    \n",
    "    #aka served transmission, served injection?\n",
    "    served_mismatch = abs.(injection_0) - damage # damage ohne abs?\n",
    "    \n",
    "    if sum(abs.(injection_0)) != 0\n",
    "        tau = sum(served_mismatch)/sum(abs.(injection_0))\n",
    "    else\n",
    "        tau = 1\n",
    "    end\n",
    "    \n",
    "    if -tolerance <= tau <0\n",
    "        tau = 0\n",
    "    elseif 1 < tau <= 1+tolerance\n",
    "        tau = 1\n",
    "    end\n",
    "    \n",
    "    @assert tau >= 0 \"negative tau: $(tau)\"\n",
    "    @assert tau <= 1 \"tau above 1: $(tau)\"\n",
    "    \n",
    "    return triple_struct(delta, tau, power.battery_content)\n",
    "end"
   ]
  },
  {
   "cell_type": "code",
   "execution_count": 48,
   "metadata": {},
   "outputs": [
    {
     "data": {
      "text/plain": [
       "batt_sus_old (generic function with 1 method)"
      ]
     },
     "execution_count": 48,
     "metadata": {},
     "output_type": "execute_result"
    }
   ],
   "source": [
    "# a deprecated (and probably erroneous) version of the above function\n",
    "function batt_sus_old(grid, capacities, demand, supply, battery_map, content_old, reliance, slack_index, emergency_mode)\n",
    "    \n",
    "    tolerance = 0 #10^-16 #?\n",
    "    \n",
    "    g = graphcopy(grid.graph)\n",
    "    caps = copy(capacities)\n",
    "    \n",
    "    demand[slack_index] = 0\n",
    "    supply[slack_index] = 0\n",
    "    \n",
    "    NV = length(demand)\n",
    "    \n",
    "    battery_content = zeros(NV) #at end of time step\n",
    "    battery_use = zeros(NV)\n",
    "    battery_emergency_use = zeros(NV)\n",
    "    injection = zeros(NV)\n",
    "    waste = zeros(NV)\n",
    "     \n",
    "    for node in 1:NV\n",
    "        if battery_map[node] > 0+tolerance\n",
    "            if supply[node]-demand[node] > 0+tolerance\n",
    "                charge_capacity = (battery_map[node]-content_old[node])\n",
    "                battery_use[node] = minimum([charge_capacity, reliance*abs(supply[node]-demand[node])])\n",
    "            elseif supply[node]-demand[node] < 0-tolerance\n",
    "                charge_capacity = content_old[node]\n",
    "                battery_use[node] = - minimum([charge_capacity, reliance*abs(supply[node]-demand[node])])\n",
    "            end\n",
    "        end\n",
    "    end\n",
    "    \n",
    "    injection = supply - demand - battery_use\n",
    "    injection[slack_index] = -sum(injection)\n",
    "    \n",
    "    diff = caps - abs.(flow(g, injection))\n",
    "    \n",
    "    while minimum(diff) < 0-tolerance\n",
    "        \n",
    "        indices = findall(x -> x<0-tolerance, diff)\n",
    "        sort!(indices,rev=true)\n",
    "        for i in indices\n",
    "            e = index2edge(g,i)\n",
    "            rem_edge!(g, e)\n",
    "            deleteat!(caps,i)\n",
    "        end\n",
    "        \n",
    "        cc = connected_components(g)            \n",
    "            \n",
    "        injection[slack_index] = 0\n",
    "        for c in cc\n",
    "            subgraph_balance = 0\n",
    "            for node in c\n",
    "                subgraph_balance += injection[node]\n",
    "            end\n",
    "            subgraph_balance = round(subgraph_balance, digits=14)\n",
    "            \n",
    "            if slack_index in c\n",
    "                injection[slack_index] = -subgraph_balance\n",
    "                \n",
    "            else\n",
    "                if subgraph_balance > 0+tolerance\n",
    "                    \n",
    "                    subgraph_battery_vacancy = 0\n",
    "                                        \n",
    "                    if emergency_mode == true\n",
    "                        for node in c\n",
    "                        subgraph_battery_vacancy += (battery_map[node] - content_old[node] \n",
    "                                                     - battery_use[node] - battery_emergency_use[node] )\n",
    "                        end\n",
    "                        subgraph_battery_vacancy = round(subgraph_battery_vacancy, digits=14)\n",
    "                        \n",
    "                        for node in c\n",
    "                            if subgraph_battery_vacancy > 0\n",
    "                                charge = (battery_map[node] - content_old[node]\n",
    "                                          - battery_use[node] - battery_emergency_use[node] )*\n",
    "                                          minimum([1, subgraph_balance/subgraph_battery_vacancy])\n",
    "                            else\n",
    "                                charge = 0\n",
    "                            end\n",
    "                            battery_emergency_use[node] += charge\n",
    "                            injection[node] -= charge\n",
    "                        end\n",
    "                    end\n",
    "                    \n",
    "                    subgraph_infeed = 0\n",
    "                    for node in c\n",
    "                        if injection[node] > 0+tolerance\n",
    "                            subgraph_infeed += injection[node]\n",
    "                        end\n",
    "                    end\n",
    "                    subgraph_infeed = round(subgraph_infeed, digits=14)\n",
    "                    \n",
    "                    if subgraph_infeed > 0\n",
    "                        wasting_factor = minimum(\n",
    "                                         [1, maximum([0, (subgraph_balance-subgraph_battery_vacancy)/subgraph_infeed ]) ])\n",
    "                    else\n",
    "                        wasting_factor = 0\n",
    "                    end\n",
    "                    \n",
    "                    @assert wasting_factor <= 1+10^-14 \"wasting factor > 1: w=$(wasting_factor), J=$(subgraph_balance), V=$(subgraph_battery_vacancy), J+=$(subgraph_infeed)\"\n",
    "                    \n",
    "                    for node in c\n",
    "                        if injection[node] > 0+tolerance\n",
    "                            waste[node] += injection[node] * wasting_factor\n",
    "                            injection[node] -= injection[node] * wasting_factor\n",
    "                        end\n",
    "                    end\n",
    "                        \n",
    "                elseif subgraph_balance < 0-tolerance\n",
    "                    \n",
    "                    if emergency_mode == true\n",
    "                        \n",
    "                        subgraph_battery_content = 0\n",
    "                        for node in c\n",
    "                        subgraph_battery_content += (content_old[node] +\n",
    "                                                     battery_use[node] + battery_emergency_use[node] )\n",
    "                        end\n",
    "                        subgraph_battery_content = round(subgraph_battery_content, digits=14)\n",
    "                        \n",
    "                        if subgraph_battery_content >= abs(subgraph_balance)\n",
    "                        \n",
    "                            for node in c\n",
    "                                if subgraph_battery_content > 0\n",
    "                                    charge = (content_old[node] + battery_use[node] + battery_emergency_use[node] )*\n",
    "                                              minimum([1, (abs(subgraph_balance)/subgraph_battery_content) ])\n",
    "                                else\n",
    "                                    charge = 0\n",
    "                                end\n",
    "                                battery_emergency_use[node] -= charge\n",
    "                                injection[node] += charge\n",
    "                            end\n",
    "                        end\n",
    "                    else\n",
    "                        for node in c\n",
    "                            \n",
    "                            if emergency_mode == true\n",
    "                                \n",
    "                                if injection[node] > 0+tolerance\n",
    "                                    charge_capacity = (battery_map[node] - content_old[node] -\n",
    "                                                       battery_use[node] - battery_emergency_use[node])\n",
    "                                    charge = minimum([charge_capacity, injection[node]])\n",
    "                                    battery_emergency_use[node] += charge\n",
    "                                    injection[node] -= charge\n",
    "                                    \n",
    "                                elseif injection[node] < 0-tolerance\n",
    "                                    charge_capacity = content_old[node] +\n",
    "                                                      battery_use[node] + battery_emergency_use[node]\n",
    "                                    charge = minimum([charge_capacity, abs(injection[node])])\n",
    "                                    battery_emergency_use[node] -= charge\n",
    "                                    injection[node] += charge\n",
    "                                end\n",
    "                            end\n",
    "                            \n",
    "                            for node in c\n",
    "                                waste[node] += maximum([0, injection[node]])\n",
    "                                injection[node] = 0\n",
    "                            end\n",
    "                        end\n",
    "                    end\n",
    "                end\n",
    "            end\n",
    "        end\n",
    "        \n",
    "        if ne(g) == 0\n",
    "            break\n",
    "        else\n",
    "            diff = caps - abs.(flow(g,injection))\n",
    "        end\n",
    "    end\n",
    "    \n",
    "    battery_content = content_old + battery_use + battery_emergency_use\n",
    "    \n",
    "    demand[slack_index] = 0\n",
    "    supply[slack_index] = 0\n",
    "    battery_content[slack_index] = 0\n",
    "    battery_use[slack_index] = 0\n",
    "    battery_emergency_use[slack_index] = 0\n",
    "    injection[slack_index] = 0\n",
    "    waste[slack_index] = 0\n",
    "    \n",
    "    for node in 1:NV\n",
    "        if (supply[node] > demand[node])\n",
    "            waste[node] = minimum([waste[node],supply[node]-demand[node]])\n",
    "        end\n",
    "    end\n",
    "    \n",
    "    power = battery_struct(demand, supply, battery_content, battery_use, battery_emergency_use,\n",
    "                           injection, waste)\n",
    "    \n",
    "    tolerance = 10^-14 #0\n",
    "    \n",
    "    lack = -power.supply +power.demand +power.battery_use +power.battery_emergency_use +power.injection +power.waste\n",
    "    \n",
    "    served_demand = power.demand - lack #power.demand + mismatch.*Int.(mismatch.<0)\n",
    "    \n",
    "    if sum(power.demand) != 0\n",
    "        delta = sum(served_demand)/sum(power.demand)\n",
    "    else\n",
    "        delta = 1\n",
    "    end\n",
    "    \n",
    "    if -tolerance <= delta <0\n",
    "        delta = 0\n",
    "    elseif 1 < delta <= 1+tolerance\n",
    "        delta = 1\n",
    "    end\n",
    "    \n",
    "    @assert delta >= 0 \"negative delta: $(delta)\"\n",
    "    @assert delta <= 1 \"delta above 1: $(delta)\"\n",
    "    \n",
    "    damage = lack + power.waste\n",
    "    \n",
    "    #aka served transmission, served injection?\n",
    "    served_mismatch = abs.(power.supply-power.demand) - abs.(damage) # damage ohne abs?\n",
    "    \n",
    "    if sum(abs.(power.supply-power.demand)) != 0\n",
    "        tau = sum(served_mismatch)/sum(abs.(power.supply-power.demand))\n",
    "    else\n",
    "        tau = 1\n",
    "    end\n",
    "    \n",
    "    if -tolerance <= tau <0\n",
    "        tau = 0\n",
    "    elseif 1 < tau <= 1+tolerance\n",
    "        tau = 1\n",
    "    end\n",
    "    \n",
    "    @assert tau >= 0 \"negative tau: $(tau)\"\n",
    "    @assert tau <= 1 \"tau above 1: $(tau)\"\n",
    "    \n",
    "    return triple_struct(delta, tau, power.battery_content)\n",
    "end"
   ]
  },
  {
   "cell_type": "code",
   "execution_count": 49,
   "metadata": {},
   "outputs": [
    {
     "data": {
      "text/plain": [
       "batt_sus_series (generic function with 1 method)"
      ]
     },
     "execution_count": 49,
     "metadata": {},
     "output_type": "execute_result"
    }
   ],
   "source": [
    "# function that calculates the battery behavior and sustainant time series at the same time\n",
    "function batt_sus_series(grid, caps, demand, supply, battery_map, initial_content,\n",
    "                         reliance, slack_index, emergency_mode, limits)\n",
    "    \n",
    "    timesteps, NV = size(demand)\n",
    "    \n",
    "    delta = zeros(timesteps)\n",
    "    tau = zeros(timesteps)\n",
    "    \n",
    "    content_0 = battery_map .* initial_content\n",
    "\n",
    "    batt_0 = batt_sus(grid, caps, demand[1,:], supply[1,:], battery_map, content_0,\n",
    "                       reliance, slack_index, emergency_mode, limits)\n",
    "    content = batt_0.battery_content\n",
    "    delta[1] = batt_0.delta\n",
    "    tau[1] = batt_0.tau\n",
    "\n",
    "    for t in 2:timesteps\n",
    "        batt = batt_sus(grid, caps, demand[t,:], supply[t,:], battery_map, content,\n",
    "                         reliance, slack_index, emergency_mode, limits)\n",
    "        content = batt.battery_content\n",
    "        delta[t] = batt.delta\n",
    "        tau[t] = batt.tau\n",
    "    end\n",
    "    \n",
    "    return sustainant_struct(delta,tau)     \n",
    "end"
   ]
  },
  {
   "cell_type": "markdown",
   "metadata": {},
   "source": [
    "### Simulation functions"
   ]
  },
  {
   "cell_type": "code",
   "execution_count": 50,
   "metadata": {},
   "outputs": [
    {
     "data": {
      "text/plain": [
       "quantile_list (generic function with 2 methods)"
      ]
     },
     "execution_count": 50,
     "metadata": {},
     "output_type": "execute_result"
    }
   ],
   "source": [
    "# function to quickly extract a range of quantiles from a series of values\n",
    "function quantile_list(series, p_values=[0, 10^-10, 10^-9, 10^-8, 10^-7, 10^-6, 10^-5, 10^-4, 10^-3, 10^-2,\n",
    "                    10^-1, 0.2, 0.3, 0.4, 0.5, 0.6, 0.7, 0.8, 0.9, 1])\n",
    "    \n",
    "    #@assert all(series.==1.0) == false\n",
    "    return [quantile(series,p) for p in p_values]\n",
    "end"
   ]
  },
  {
   "cell_type": "code",
   "execution_count": 51,
   "metadata": {},
   "outputs": [
    {
     "data": {
      "text/plain": [
       "qf (generic function with 1 method)"
      ]
     },
     "execution_count": 51,
     "metadata": {},
     "output_type": "execute_result"
    }
   ],
   "source": [
    "# function that calculates the inverse of a quantile (also called quantile function = qf)\n",
    "function qf(series; threshold=1)\n",
    "    return length(filter(x -> x<threshold, series))/length(series)\n",
    "end"
   ]
  },
  {
   "cell_type": "code",
   "execution_count": 52,
   "metadata": {},
   "outputs": [
    {
     "data": {
      "text/plain": [
       "adaptation_result (generic function with 1 method)"
      ]
     },
     "execution_count": 52,
     "metadata": {},
     "output_type": "execute_result"
    }
   ],
   "source": [
    "# function that performs a complete power grid simulation and resilience analysis\n",
    "# for a single adverse influence and a single response strategy\n",
    "function adaptation_result(P2, prosumer_ratio,\n",
    "                           allocation, line_budget_factor, new_lines, battery_budget_factor, battery_reliance;\n",
    "                           grids = default_grids, locations = default_locs, \n",
    "                           line_safety = default_safety, flowtest_runs = default_flowtest_runs,\n",
    "                           risktest_runs = default_risktest_runs, performance_days = default_days,\n",
    "                           N = 100, P1 = 0, \n",
    "                           time_resolution = 1,\n",
    "                           initial_content = 0.5, digits = 16,\n",
    "                           n0 = maximum([Int(floor(N*0.15)),1]), p = 0.15 ,q = 0.15, r = 0.2,\n",
    "                           w = x->x, emergency_mode=true)\n",
    "\n",
    "    solar_dict = smoother(solar_dict_default,time_resolution)\n",
    "    consumer_dict = smoother(consumer_dict_default,time_resolution)\n",
    "    steps_per_day = Int(ceil(24*60/time_resolution))\n",
    "    \n",
    "    Delta_P = P2-P1\n",
    "    \n",
    "    results = sustainant_struct(zeros(grids*locations), zeros(grids*locations))\n",
    "    \n",
    "    limits = lower_upper_struct(-Inf, Inf)\n",
    "    if battery_reliance > 0\n",
    "        limits = limit_finder(prosumer_ratio, P2, battery_reliance;solar_dict=solar_dict, consumer_dict=consumer_dict)\n",
    "    end\n",
    "    \n",
    "    for g in 1:grids\n",
    "\n",
    "        grid = create_grid(N, n0, p, q, r)\n",
    "        NV = N\n",
    "        NE = ne(grid)\n",
    "        slack_index = findmax(closeness_centrality(grid.graph))[2]\n",
    "        \n",
    "        caps = []\n",
    "        line_budget_initial = 0\n",
    "        \n",
    "        for L in 1:locations\n",
    "            \n",
    "            solar_map = set_prosumers(NV,P1,P2,slack_index)\n",
    "            if P2 > 0\n",
    "                @assert sum(solar_map.new) > 0\n",
    "            end\n",
    "            \n",
    "            if P1 == 0 && L > 1\n",
    "                caps = caps\n",
    "            else\n",
    "                flowtest_p_timeseries = power_randomdraws(solar_map.old, solar_dict, consumer_dict,\n",
    "                                                       prosumer_ratio, flowtest_runs, slack_index)\n",
    "                caps = floor.(line_safety*max_flows(grid,flowtest_p_timeseries, slack_index), digits=digits)\n",
    "                caps = zero_corrector(caps, collect(1:NE))\n",
    "                @assert all(caps.>0) \"$caps\"\n",
    "                line_budget_initial = sum(caps .* line_lengths(grid))\n",
    "            end\n",
    "            \n",
    "            \n",
    "            line_budget = line_budget_factor * line_budget_initial            \n",
    "            \n",
    "            new_grid = embedded_graphcopy(grid)\n",
    "            new_caps = copy(caps)\n",
    "            \n",
    "            if line_budget == 0\n",
    "\n",
    "                #no grid change\n",
    "\n",
    "            elseif line_budget > 0\n",
    "                \n",
    "                if allocation == \"uniform\"\n",
    "                    NE += new_lines\n",
    "                    for L in 1:new_lines\n",
    "                        nl = add_line(new_grid, new_caps, r)\n",
    "                        new_grid = nl.grid\n",
    "                        new_caps = nl.caps\n",
    "                    end\n",
    "                end\n",
    "                \n",
    "                @assert NE == ne(new_grid)\n",
    "                \n",
    "                new_line_locs = findall(e -> e == 0, new_caps)\n",
    "\n",
    "                if allocation == \"uniform\"\n",
    "                    \n",
    "                    budget_weights = edge_weights_uniform(new_grid)\n",
    "                    while sum(budget_weights) > 1\n",
    "                        budget_weights /= sum(budget_weights)\n",
    "                    end\n",
    "                    @assert sum(budget_weights) <= 1\n",
    "                    cap_boosts = budget_weights * line_budget ./ line_lengths(new_grid)\n",
    "                    new_caps = new_caps + cap_boosts\n",
    "\n",
    "                elseif allocation == \"closeness\"\n",
    "                    \n",
    "                    exponent = new_lines\n",
    "                    budget_weights = edge_weights_by_closeness(new_grid, solar_map.new, exponent)\n",
    "                    while sum(budget_weights) > 1\n",
    "                        budget_weights /= sum(budget_weights)\n",
    "                    end\n",
    "                    @assert sum(budget_weights) <= 1\n",
    "                    cap_boosts = budget_weights * line_budget ./ line_lengths(new_grid)\n",
    "                    new_caps = new_caps + cap_boosts\n",
    "\n",
    "                elseif allocation == \"risktest\"\n",
    "\n",
    "                    risktest_p_timeseries = power_randomdraws(solar_map.new, solar_dict, consumer_dict,\n",
    "                                                           prosumer_ratio, risktest_runs, slack_index)\n",
    "                    budget_weights = edge_weights_by_violation(new_grid, new_caps, risktest_p_timeseries, new_line_locs)\n",
    "                    while sum(budget_weights) > 1\n",
    "                        budget_weights /= sum(budget_weights)\n",
    "                    end\n",
    "                    @assert sum(budget_weights) <= 1\n",
    "                    cap_boosts = budget_weights * line_budget ./ line_lengths(new_grid)\n",
    "                    new_caps = new_caps + cap_boosts\n",
    "                    \n",
    "                end\n",
    "            end\n",
    "            \n",
    "            @assert all(isfinite.(new_caps))\n",
    "            \n",
    "            new_caps = floor.(new_caps, digits=digits)\n",
    "            @assert all(new_caps.>0) \"$new_caps\"\n",
    "            \n",
    "            battery_budget = (N-1)*24*60*battery_budget_factor\n",
    "            \n",
    "            if battery_budget == 0\n",
    "\n",
    "                battery_map = 0*solar_map.new\n",
    "\n",
    "            elseif battery_budget > 0\n",
    "                \n",
    "                if allocation == \"uniform\"\n",
    "\n",
    "                    battery_size = battery_budget / P2\n",
    "                    battery_map = battery_size * solar_map.new\n",
    "\n",
    "                elseif allocation == \"closeness\"\n",
    "                    \n",
    "                    weight_vector = node_weights_by_closeness(grid, solar_map.new)\n",
    "                    while sum(weight_vector) > 1\n",
    "                        weight_vector /= sum(weight_vector)\n",
    "                    end\n",
    "                    @assert sum(weight_vector) <= 1 \"sum=$(sum(weight_vector))\"\n",
    "                    battery_map = battery_budget * weight_vector .* solar_map.new\n",
    "\n",
    "                elseif allocation == \"risktest\"\n",
    "\n",
    "                    risktest_p_timeseries = power_randomdraws(solar_map.new, solar_dict, consumer_dict,\n",
    "                                                           prosumer_ratio, risktest_runs, slack_index)\n",
    "                    weight_vector = node_weights_by_violation(grid, caps, risktest_p_timeseries)\n",
    "                    while sum(weight_vector) > 1\n",
    "                        weight_vector /= sum(weight_vector)\n",
    "                    end\n",
    "                    @assert sum(weight_vector) <= 1 \"sum=$(sum(weight_vector))\"\n",
    "                    battery_map = battery_budget * weight_vector .* solar_map.new\n",
    "\n",
    "                end\n",
    "                \n",
    "                battery_map = floor.(battery_map, digits=digits)\n",
    "            end\n",
    "            \n",
    "            demand_supply_series = power_timeseries(solar_map.new, solar_dict, consumer_dict,\n",
    "                                                   prosumer_ratio, performance_days, time_resolution, slack_index)\n",
    "                \n",
    "            sus = batt_sus_series(new_grid, new_caps, demand_supply_series.demand, demand_supply_series.supply,\n",
    "                                  battery_map, initial_content, battery_reliance, slack_index, emergency_mode,\n",
    "                                  limits)\n",
    "            \n",
    "            # failure fraction\n",
    "            #results.delta[(g-1)*locations+L] = qf(sus.delta)\n",
    "            #results.tau[(g-1)*locations+L] = qf(sus.tau)\n",
    "            \n",
    "            # mean, which is equivalent to integral\n",
    "            #results.delta[(g-1)*locations+L] = mean(sus.delta)\n",
    "            #results.tau[(g-1)*locations+L] = mean(sus.tau)\n",
    "            \n",
    "            # mean of weighted deviations from optimum\n",
    "            results.delta[(g-1)*locations+L] = mean( w.( 1 .- sus.delta))\n",
    "            results.tau[(g-1)*locations+L] = mean( w.( 1 .- sus.tau))            \n",
    "        end            \n",
    "    end  \n",
    "    \n",
    "    return results\n",
    "    \n",
    "end"
   ]
  },
  {
   "cell_type": "code",
   "execution_count": 53,
   "metadata": {},
   "outputs": [
    {
     "data": {
      "text/plain": [
       "adaptation_result_file (generic function with 1 method)"
      ]
     },
     "execution_count": 53,
     "metadata": {},
     "output_type": "execute_result"
    }
   ],
   "source": [
    "# function that performs the above resilience analysis calculation and saves the results as a .csv file\n",
    "function adaptation_result_file(P2, prosumer_ratio,\n",
    "                                allocation, line_budget_factor, new_lines, battery_budget_factor, battery_reliance,\n",
    "                                path, w, emergency_mode;\n",
    "                                grids = default_grids, locations = default_locs, \n",
    "                                line_safety = default_safety, flowtest_runs = default_flowtest_runs,\n",
    "                                risktest_runs = default_risktest_runs, performance_days = default_days,\n",
    "                                N = 100, P1 = 0, \n",
    "                                time_resolution = 1,\n",
    "                                initial_content = 0.5, digits = 16,\n",
    "                                n0 = maximum([Int(floor(N*0.15)),1]), p = 0.15 ,q = 0.15, r = 0.2,\n",
    "                                filename_override=\"\")\n",
    "    \n",
    "    filename = \"\"\n",
    "    \n",
    "    if P2-P1 == 0\n",
    "        prosumer_ratio = 0\n",
    "    end\n",
    "    \n",
    "    if prosumer_ratio == 0\n",
    "        P2 = copy(P1)\n",
    "    end\n",
    "    \n",
    "    if battery_reliance == 0\n",
    "        battery_budget_factor = 0\n",
    "    end\n",
    "    \n",
    "    if battery_budget_factor == 0\n",
    "        battery_reliance = 0\n",
    "    end\n",
    "    \n",
    "    if line_budget_factor == 0\n",
    "        new_lines = 0\n",
    "    end\n",
    "    \n",
    "    if line_budget_factor + battery_budget_factor == 0\n",
    "        allocation = \"none\"\n",
    "    end\n",
    "    \n",
    "    if allocation == \"none\"\n",
    "        line_budget_factor = 0\n",
    "        battery_budget_factor = 0\n",
    "        filename = \"sus_for_P2=$(P2),_rp=$(round(prosumer_ratio,digits=4)),_alloc=$(allocation)\"\n",
    "    elseif line_budget_factor == 0\n",
    "        filename = \"sus_for_P2=$(P2),_rp=$(round(prosumer_ratio,digits=4))\"*\n",
    "                   \",_alloc=$(allocation),_em=$(emergency_mode)\"*\n",
    "                   \",_batt_bf=$(battery_budget_factor),_b_rel=$(battery_reliance)\"\n",
    "    elseif battery_budget_factor == 0\n",
    "        filename = \"sus_for_P2=$(P2),_rp=$(round(prosumer_ratio,digits=4))\"*\n",
    "                   \",_alloc=$(allocation)\"*\n",
    "                   \",_line_bf=$(line_budget_factor),_new_l=$(new_lines)\"\n",
    "    end\n",
    "    filename = replace(filename,Pair(\".\",\"p\"))*\".csv\"\n",
    "    \n",
    "    if filename_override !== \"\"\n",
    "        filename = filename_override*\".csv\"\n",
    "    end\n",
    "    \n",
    "    folder = readdir(path)\n",
    "    if (filename in folder) == false\n",
    "        \n",
    "        parameter_names = [\"N\", \"line_safety\", \"P1\",\n",
    "                           \"N0\", \"p\", \"q\", \"r\",\n",
    "                           \"P2\", \"Delta_P\", \"prosumer_ratio\",\n",
    "                           \"allocation\", \"line_budget_factor\", \"new_lines\", \"battery_budget_factor\", \"battery_reliance\",\n",
    "                           \"emergency_mode\", \"initial_content\", \"grids\", \"locations\", \"flowtest_runs\", \"risktest_runs\",\n",
    "                           \"performance_days\", \"time_resolution\", \"digits\"]\n",
    "        Delta_P = P2-P1\n",
    "        parameter_values = [N, line_safety, P1,\n",
    "                            n0, p, q, r,\n",
    "                            P2, Delta_P, prosumer_ratio,\n",
    "                            allocation, line_budget_factor, new_lines, battery_budget_factor, battery_reliance,\n",
    "                            emergency_mode, initial_content, grids, locations, flowtest_runs, risktest_runs,\n",
    "                            performance_days, time_resolution, digits]\n",
    "        emptycolumn = fill(\" \",length(parameter_names))\n",
    "        parameters = hcat(parameter_names, parameter_values, emptycolumn)\n",
    "        emptyrow = [\" \" \" \" \" \"]\n",
    "        \n",
    "        header = [\"instance\" \"delta mean weighted deviation\" \"tau mean weighted deviation\"] #\n",
    "        \n",
    "        results = adaptation_result(P2, prosumer_ratio,\n",
    "                                allocation, line_budget_factor, new_lines, battery_budget_factor, battery_reliance,\n",
    "                                grids = grids, locations = locations, \n",
    "                                line_safety = line_safety, flowtest_runs = flowtest_runs, risktest_runs = risktest_runs,\n",
    "                                performance_days = performance_days,\n",
    "                                N = N, P1 = P1, \n",
    "                                time_resolution = time_resolution,\n",
    "                                initial_content = initial_content, digits = digits,\n",
    "                                n0 = n0, p = p, q = q, r = r, w=w, emergency_mode=emergency_mode)\n",
    "        \n",
    "        instances = collect(1:length(results.delta))\n",
    "        list = hcat(instances, results.delta, results.tau)\n",
    "        \n",
    "        tab = vcat(parameters,emptyrow,header,list)\n",
    "\n",
    "        CSV.write(path*\"/\"*filename,Tables.table(tab),delim=\"\\t\",header=false)\n",
    "        \n",
    "    else\n",
    "        println(\"file $(filename) already exists in folder $(path) . skipping computation\")\n",
    "    end\n",
    "end"
   ]
  },
  {
   "cell_type": "markdown",
   "metadata": {},
   "source": [
    "### Quasi Monte Carlo sampling functions"
   ]
  },
  {
   "cell_type": "code",
   "execution_count": 54,
   "metadata": {},
   "outputs": [
    {
     "data": {
      "text/plain": [
       "stability_check (generic function with 1 method)"
      ]
     },
     "execution_count": 54,
     "metadata": {},
     "output_type": "execute_result"
    }
   ],
   "source": [
    "# function that checks whether the frequency of deviations (no matter the magnitude) from the ideal sustainant value (=1) are rare enough\n",
    "function stability_check(sus_series)\n",
    "    \n",
    "    #if quantile(sus_series,10^-5) == 1\n",
    "    if qf(sus_series) <= 10^-5 #\n",
    "        return true\n",
    "    else\n",
    "        return false\n",
    "    end\n",
    "end    "
   ]
  },
  {
   "cell_type": "code",
   "execution_count": 55,
   "metadata": {},
   "outputs": [
    {
     "data": {
      "text/plain": [
       "resilience_freq (generic function with 1 method)"
      ]
     },
     "execution_count": 55,
     "metadata": {},
     "output_type": "execute_result"
    }
   ],
   "source": [
    "# function that returns the frequency of the sustainant deviating from the ideal value by more than a threshold\n",
    "function resilience_freq(mean_weighted_deviations; threshold=10^-5)\n",
    "    return length(filter(x -> x<=threshold, mean_weighted_deviations))/length(mean_weighted_deviations)\n",
    "end"
   ]
  },
  {
   "cell_type": "code",
   "execution_count": 56,
   "metadata": {},
   "outputs": [
    {
     "data": {
      "text/plain": [
       "ratio_finder (generic function with 1 method)"
      ]
     },
     "execution_count": 56,
     "metadata": {},
     "output_type": "execute_result"
    }
   ],
   "source": [
    "# function that determines the maximum prosumer ratio that a given response strategy can cope with\n",
    "# the ratio is determined by interval halving up to a set resolution\n",
    "function ratio_finder(allocation, line_budget_factor, new_lines, battery_budget_factor, battery_reliance,\n",
    "                      ratio_res, max_ratio, w, emergency_mode)\n",
    "    \n",
    "    P2 = 1 #2 for closeness\n",
    "    r_left = 0.\n",
    "    r_right = copy(max_ratio)\n",
    "    ratio = copy(r_right)\n",
    "    while (r_right-r_left) > ratio_res\n",
    "        \n",
    "        results = adaptation_result(P2, ratio,\n",
    "                               allocation, line_budget_factor, new_lines, battery_budget_factor, battery_reliance,\n",
    "                               w=w, emergency_mode=emergency_mode)\n",
    "        \n",
    "        if resilience_freq(results.delta) == 0 && resilience_freq(results.tau) == 0 ###only one of the sustainants?\n",
    "            r_right = ratio\n",
    "        else\n",
    "            r_left = ratio\n",
    "        end\n",
    "        ratio = 0.5*(r_left + r_right)\n",
    "    end\n",
    "    \n",
    "    return r_right\n",
    "end"
   ]
  },
  {
   "cell_type": "code",
   "execution_count": 57,
   "metadata": {},
   "outputs": [
    {
     "data": {
      "text/plain": [
       "P2_finder (generic function with 1 method)"
      ]
     },
     "execution_count": 57,
     "metadata": {},
     "output_type": "execute_result"
    }
   ],
   "source": [
    "# function that determines the maximum prosumer count that a given response strategy can cope with\n",
    "# the count is determined by interval halving up to a set resolution\n",
    "function P2_finder(allocation, line_budget_factor, new_lines, battery_budget_factor, battery_reliance,\n",
    "                   P2_res, max_P2, w, emergency_mode)\n",
    "    \n",
    "    ratio = 0.5\n",
    "    p_low = 1\n",
    "    p_high = copy(max_P2)\n",
    "    p = copy(p_high)\n",
    "    while (p_high-p_low) > P2_res\n",
    "        \n",
    "        results = adaptation_result(p, ratio,\n",
    "                               allocation, line_budget_factor, new_lines, battery_budget_factor, battery_reliance,\n",
    "                               w=w, emergency_mode=emergency_mode)\n",
    "        \n",
    "        if resilience_freq(results.delta) == 0 && resilience_freq(results.tau) == 0 ###only one of the sustainants?\n",
    "            p_high = p\n",
    "        else\n",
    "            p_low = p\n",
    "        end\n",
    "        p = Int(round(0.5*(p_low + p_high)))\n",
    "    end\n",
    "    \n",
    "    return p_high\n",
    "end"
   ]
  },
  {
   "cell_type": "code",
   "execution_count": 58,
   "metadata": {},
   "outputs": [
    {
     "data": {
      "text/plain": [
       "value_from_filename (generic function with 2 methods)"
      ]
     },
     "execution_count": 58,
     "metadata": {},
     "output_type": "execute_result"
    }
   ],
   "source": [
    "# function that extracts a numeric value from a filename (or any string) in the form of \"...,_variable=value,_...\"\n",
    "function value_from_filename(filename, variable, splitter=\",_\")\n",
    "    chunks = string.(split(filename,splitter))\n",
    "    found = false\n",
    "    for c in chunks\n",
    "        if occursin(variable,c)\n",
    "            value = replace(string.(split(c,\"=\"))[2],Pair(\"p\",\".\"))\n",
    "            found = true\n",
    "            return Meta.parse(value)\n",
    "        end\n",
    "    end\n",
    "    if found == false\n",
    "        return 0\n",
    "    end\n",
    "end"
   ]
  },
  {
   "cell_type": "code",
   "execution_count": 59,
   "metadata": {},
   "outputs": [
    {
     "data": {
      "text/plain": [
       "string_value_from_filename (generic function with 2 methods)"
      ]
     },
     "execution_count": 59,
     "metadata": {},
     "output_type": "execute_result"
    }
   ],
   "source": [
    "# function that extracts a string value from a filename (or any string) in the form of \"...,_variable=value,_...\"\n",
    "function string_value_from_filename(filename, variable, splitter=\",_\")\n",
    "    chunks = string.(split(filename,splitter))\n",
    "    found = false\n",
    "    for c in chunks\n",
    "        if occursin(variable,c)\n",
    "            value = replace(string.(split(c,\"=\"))[2],Pair(\"p\",\".\"))\n",
    "            found = true\n",
    "            return value\n",
    "        end\n",
    "    end\n",
    "    if found == false\n",
    "        return \"\"\n",
    "    end\n",
    "end"
   ]
  },
  {
   "cell_type": "code",
   "execution_count": 60,
   "metadata": {},
   "outputs": [
    {
     "data": {
      "text/plain": [
       "qmc_folder_prep (generic function with 1 method)"
      ]
     },
     "execution_count": 60,
     "metadata": {},
     "output_type": "execute_result"
    }
   ],
   "source": [
    "# function that creates subfolders with combinations of response strategies and their parameters\n",
    "function qmc_folder_prep(allocation, line_budget_factor_range, new_lines_range,\n",
    "                         battery_budget_factor_range, battery_reliance_range,\n",
    "                         results_path, weight_function, emergency_mode;\n",
    "                         ratio_res = 1.5, P2_res = 15, max_P2 = 99, max_ratio = 10.)\n",
    "    \n",
    "    allocation_folder = \"\"\n",
    "    if allocation == \"none\"\n",
    "        allocation_folder = \"no_adaptation\"\n",
    "    elseif line_budget_factor_range == 0:0 && battery_budget_factor_range == 0:0\n",
    "        allocation_folder = \"no_adaptation\"\n",
    "    elseif line_budget_factor_range == 0:0 && battery_budget_factor_range != 0:0\n",
    "        if emergency_mode == true\n",
    "            allocation_folder = \"emergency_battery_adaptation_\"*allocation\n",
    "        else\n",
    "            allocation_folder = \"simple_battery_adaptation_\"*allocation\n",
    "        end\n",
    "    elseif line_budget_factor_range != 0:0 && battery_budget_factor_range == 0:0\n",
    "        allocation_folder = \"line_adaptation_\"*allocation\n",
    "    end\n",
    "    \n",
    "    combos = [(axis, LBF, NL, BBF, BR) for axis in [\"rp\",\"np\"],\n",
    "                                           LBF in line_budget_factor_range,\n",
    "                                           NL in new_lines_range,\n",
    "                                           BBF in battery_budget_factor_range,\n",
    "                                           BR in battery_reliance_range]\n",
    "                            \n",
    "    function main_call(combo)\n",
    "        (axis, LBF, NL, BBF, BR) = combo\n",
    "        if axis == \"rp\"\n",
    "            return ratio_finder(allocation, LBF, NL, BBF, BR, ratio_res, max_ratio, weight_function, emergency_mode)\n",
    "        elseif axis == \"np\"\n",
    "            return P2_finder(allocation, LBF, NL, BBF, BR, P2_res, max_P2, weight_function, emergency_mode)\n",
    "        end\n",
    "    end\n",
    "\n",
    "    #cutoff = pmap(main_call, combos)\n",
    "\n",
    "    for i in 1:2:length(combos)\n",
    "        max_r, max_p = 10, 99 #cutoff[i], cutoff[i+1]\n",
    "        (axis, LBF, NL, BBF, BR) = combos[i]\n",
    "\n",
    "        parameter_folder = \"\"\n",
    "\n",
    "        if allocation == \"none\"\n",
    "            parameter_folder = \"sus_samples_for_alloc=$(allocation)\"*\n",
    "                          \",_max_P2=$(max_p),_max_rp=$(max_r)\"\n",
    "        elseif LBF == 0\n",
    "            parameter_folder = \"sus_samples_for_alloc=$(allocation)\"*\",_em=$(emergency_mode)\"*\n",
    "                          \",_batt_bf=$(BBF),_b_rel=$(BR)\"*\n",
    "                          \",_max_P2=$(max_p),_max_rp=$(max_r)\"\n",
    "        elseif BBF == 0\n",
    "            parameter_folder = \"sus_samples_for_alloc=$(allocation)\"*\n",
    "                          \",_line_bf=$(LBF),_new_l=$(NL)\"*\n",
    "                          \",_max_P2=$(max_p),_max_rp=$(max_r)\"\n",
    "        end\n",
    "\n",
    "        parameter_folder = replace(parameter_folder,Pair(\".\",\"p\"))\n",
    "\n",
    "        parameter_folder_path = results_path*\"/\"*allocation_folder*\"/\"*parameter_folder\n",
    "        mkpath(parameter_folder_path)\n",
    "    end\n",
    "    \n",
    "    return allocation_folder\n",
    "end"
   ]
  },
  {
   "cell_type": "code",
   "execution_count": 61,
   "metadata": {},
   "outputs": [
    {
     "data": {
      "text/plain": [
       "qmc_folder_pointer (generic function with 1 method)"
      ]
     },
     "execution_count": 61,
     "metadata": {},
     "output_type": "execute_result"
    }
   ],
   "source": [
    "# function that generates the path to a subfolder given the corresponding parameters\n",
    "function qmc_folder_pointer(allocation, line_budget_factor_range, new_lines_range,\n",
    "                         battery_budget_factor_range, battery_reliance_range,\n",
    "                         results_path, weight_function, emergency_mode;\n",
    "                         ratio_res = 1.5, P2_res = 15, max_P2 = 99, max_ratio = 10.)\n",
    "    \n",
    "    allocation_folder = \"\"\n",
    "    if allocation == \"none\"\n",
    "        allocation_folder = \"no_adaptation\"\n",
    "    elseif line_budget_factor_range == 0:0 && battery_budget_factor_range == 0:0\n",
    "        allocation_folder = \"no_adaptation\"\n",
    "    elseif line_budget_factor_range == 0:0 && battery_budget_factor_range != 0:0\n",
    "        if emergency_mode == true\n",
    "            allocation_folder = \"emergency_battery_adaptation_\"*allocation\n",
    "        else\n",
    "            allocation_folder = \"simple_battery_adaptation_\"*allocation\n",
    "        end\n",
    "    elseif line_budget_factor_range != 0:0 && battery_budget_factor_range == 0:0\n",
    "        allocation_folder = \"line_adaptation_\"*allocation\n",
    "    end\n",
    "        \n",
    "    return allocation_folder\n",
    "end"
   ]
  },
  {
   "cell_type": "code",
   "execution_count": 62,
   "metadata": {
    "tags": []
   },
   "outputs": [
    {
     "data": {
      "text/plain": [
       "qmc_sampler (generic function with 1 method)"
      ]
     },
     "execution_count": 62,
     "metadata": {},
     "output_type": "execute_result"
    }
   ],
   "source": [
    "# function that performs the QMC sampling of the resilience analysis\n",
    "# it is parallelized to optimze computation time\n",
    "# the argument \"offset\" allows to expand on an existing QMC sample\n",
    "function qmc_sampler(allocation_path, weight_function; monte_carlo_runs = mc_runs, offset = 0, skip_errors = true)\n",
    "    \n",
    "    allocation_directory = readdir(allocation_path)\n",
    "    filter!(e->!occursin(\"csv\",e), allocation_directory)\n",
    "    \n",
    "    for parameter_folder in allocation_directory\n",
    "        \n",
    "        max_P2 = value_from_filename(parameter_folder, \"max_P2\")\n",
    "        max_ratio = value_from_filename(parameter_folder, \"max_rp\")\n",
    "        allocation = string_value_from_filename(parameter_folder, \"alloc\")\n",
    "        line_budget_factor = value_from_filename(parameter_folder, \"line_bf\")\n",
    "        new_lines = value_from_filename(parameter_folder, \"new_l\")\n",
    "        battery_budget_factor = value_from_filename(parameter_folder, \"batt_bf\")\n",
    "        battery_reliance = value_from_filename(parameter_folder, \"b_rel\")\n",
    "        emergency_mode = value_from_filename(parameter_folder, \"em\")\n",
    "        if emergency_mode == 0; emergency_mode = false; end\n",
    "        \n",
    "        @assert max_ratio > 0.1\n",
    "        @assert max_P2 > 1\n",
    "        \n",
    "        samples = Array{Any}(QuasiMonteCarlo.sample(monte_carlo_runs+offset,\n",
    "                                                    [0.1, 0.5 + 10^-16], [max_ratio, max_P2 + 0.5 - 10^-16],\n",
    "                                                    SobolSample()))[:,offset+1:end]\n",
    "        samples[2,:] = Int.(round.(samples[2,:]))\n",
    "        \n",
    "        main_call(sample) = adaptation_result_file(sample[2], sample[1],\n",
    "                allocation, line_budget_factor, new_lines, battery_budget_factor, battery_reliance,\n",
    "                allocation_path * \"/\" * parameter_folder, weight_function, emergency_mode)\n",
    "        \n",
    "        if skip_errors == true\n",
    "            pmap(main_call, [samples[:,i] for i in 1:monte_carlo_runs]; on_error = identity,\n",
    "                 retry_delays = ExponentialBackOff(n = 3))\n",
    "        else\n",
    "            pmap(main_call, [samples[:,i] for i in 1:monte_carlo_runs]; on_error = throw)\n",
    "        end\n",
    "    end\n",
    "end"
   ]
  }
 ],
 "metadata": {
  "@webio": {
   "lastCommId": null,
   "lastKernelId": null
  },
  "kernelspec": {
   "display_name": "Julia 1.5.3",
   "language": "julia",
   "name": "julia-1.5"
  },
  "language_info": {
   "file_extension": ".jl",
   "mimetype": "application/julia",
   "name": "julia",
   "version": "1.5.3"
  },
  "widgets": {
   "application/vnd.jupyter.widget-state+json": {
    "state": {},
    "version_major": 2,
    "version_minor": 0
   }
  }
 },
 "nbformat": 4,
 "nbformat_minor": 4
}
